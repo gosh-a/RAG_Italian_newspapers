{
 "cells": [
  {
   "cell_type": "markdown",
   "id": "b7df6354-6309-4435-889c-429dce0eda5d",
   "metadata": {},
   "source": [
    "### imports and prepare model"
   ]
  },
  {
   "cell_type": "code",
   "execution_count": 1,
   "id": "22341977-dabc-4d01-b845-ad900d462134",
   "metadata": {},
   "outputs": [],
   "source": [
    "import os\n",
    "import re\n",
    "import shutil\n",
    "import torch\n",
    "import transformers\n",
    "import statistics\n",
    "import pandas as pd\n",
    "from torch import cuda, bfloat16\n",
    "from transformers import AutoTokenizer\n",
    "from time import time\n",
    "from langchain_community.document_loaders.csv_loader import CSVLoader\n",
    "from langchain.text_splitter import RecursiveCharacterTextSplitter\n",
    "from langchain_huggingface import HuggingFaceEmbeddings, HuggingFacePipeline\n",
    "from langchain.chains import RetrievalQA\n",
    "from langchain.vectorstores import Chroma"
   ]
  },
  {
   "cell_type": "code",
   "execution_count": 2,
   "id": "24c6bb5e-08e6-46b7-9685-d32a52334638",
   "metadata": {},
   "outputs": [
    {
     "name": "stdout",
     "output_type": "stream",
     "text": [
      "cuda:0\n"
     ]
    }
   ],
   "source": [
    "# model_id = \"meta-llama/Meta-Llama-3.1-8B-Instruct\"\n",
    "model_id = \"swap-uniba/LLaMAntino-3-ANITA-8B-Inst-DPO-ITA\"\n",
    "\n",
    "device = f'cuda:{cuda.current_device()}' if cuda.is_available() else 'cpu'\n",
    "\n",
    "bnb_config = transformers.BitsAndBytesConfig(\n",
    "    load_in_4bit=True,\n",
    "    bnb_4bit_quant_type='nf4',\n",
    "    bnb_4bit_use_double_quant=True,\n",
    "    bnb_4bit_compute_dtype=torch.bfloat16,\n",
    "    llm_int8_enable_fp32_cpu_offload=True,\n",
    ")\n",
    "print(device)"
   ]
  },
  {
   "cell_type": "code",
   "execution_count": 3,
   "id": "d6d61990-2b44-40bb-830a-87d41109ea0e",
   "metadata": {},
   "outputs": [
    {
     "data": {
      "application/vnd.jupyter.widget-view+json": {
       "model_id": "36f14cb8a3004d39b08985b42ade3412",
       "version_major": 2,
       "version_minor": 0
      },
      "text/plain": [
       "Loading checkpoint shards:   0%|          | 0/4 [00:00<?, ?it/s]"
      ]
     },
     "metadata": {},
     "output_type": "display_data"
    },
    {
     "name": "stdout",
     "output_type": "stream",
     "text": [
      "Prepare model, tokenizer: 11.246 sec.\n"
     ]
    }
   ],
   "source": [
    "time_start = time()\n",
    "model_config = transformers.AutoConfig.from_pretrained(\n",
    "    model_id,\n",
    "    max_new_tokens=1024\n",
    ")\n",
    "model = transformers.AutoModelForCausalLM.from_pretrained(\n",
    "    model_id,\n",
    "    config=model_config,\n",
    "    quantization_config=bnb_config,\n",
    "    device_map='auto',\n",
    ")\n",
    "tokenizer = AutoTokenizer.from_pretrained(model_id)\n",
    "model.config.pad_token_id = tokenizer.eos_token_id\n",
    "time_end = time()\n",
    "print(f\"Prepare model, tokenizer: {round(time_end-time_start, 3)} sec.\")"
   ]
  },
  {
   "cell_type": "code",
   "execution_count": 4,
   "id": "b2a4b6a3-523a-401f-b9e5-6bf6b12ff607",
   "metadata": {
    "tags": []
   },
   "outputs": [
    {
     "name": "stderr",
     "output_type": "stream",
     "text": [
      "/home/gglonshakov/miniconda3/envs/rag_project/lib/python3.11/site-packages/torchvision/io/image.py:13: UserWarning: Failed to load image Python extension: '/home/gglonshakov/miniconda3/envs/rag_project/lib/python3.11/site-packages/torchvision/image.so: undefined symbol: _ZN3c1017RegisterOperatorsD1Ev'If you don't plan on using image functionality from `torchvision.io`, you can ignore this warning. Otherwise, there might be something wrong with your environment. Did you have `libjpeg` or `libpng` installed before building `torchvision` from source?\n",
      "  warn(\n"
     ]
    },
    {
     "name": "stdout",
     "output_type": "stream",
     "text": [
      "Prepare pipeline: 0.339 sec.\n"
     ]
    }
   ],
   "source": [
    "time_start = time()\n",
    "query_pipeline = transformers.pipeline(\n",
    "    \"text-generation\",\n",
    "    model=model,\n",
    "    tokenizer=tokenizer,\n",
    "    torch_dtype=torch.float16,\n",
    "    device_map=\"auto\",\n",
    "    do_sample=False,\n",
    "    num_return_sequences=1,\n",
    "    eos_token_id=tokenizer.eos_token_id,\n",
    "    return_full_text=False,\n",
    "    temperature=None,\n",
    "    top_k=None,\n",
    "    top_p=None,\n",
    "    max_new_tokens=250,\n",
    "    repetition_penalty=1.1,\n",
    ")\n",
    "time_end = time()\n",
    "print(f\"Prepare pipeline: {round(time_end-time_start, 3)} sec.\")"
   ]
  },
  {
   "cell_type": "markdown",
   "id": "18a5b768-a2fb-446b-a1dd-6ae664af1792",
   "metadata": {},
   "source": [
    "### data"
   ]
  },
  {
   "cell_type": "code",
   "execution_count": 2,
   "id": "52be0508-aca5-463b-8799-ce3cf56f68d9",
   "metadata": {},
   "outputs": [],
   "source": [
    "dev_set_search =  pd.read_csv('data/search/dev_set_search.csv', sep=';', index_col='id')\n",
    "dev_set_sentiment =  pd.read_csv('data/sentiment/dev_set_sentiment.csv', sep=';', index_col='id')\n",
    "test_set_search =  pd.read_csv('data/search/test_set_search.csv', sep=';', index_col='id')\n",
    "test_set_sentiment =  pd.read_csv('data/sentiment/test_set_sentiment.csv', sep=';', index_col='id')"
   ]
  },
  {
   "cell_type": "code",
   "execution_count": 4,
   "id": "e8a49efa-c9d0-4aca-b537-9440dd42bbac",
   "metadata": {},
   "outputs": [
    {
     "name": "stderr",
     "output_type": "stream",
     "text": [
      "/tmp/ipykernel_1341264/1883729797.py:2: DtypeWarning: Columns (3) have mixed types. Specify dtype option on import or set low_memory=False.\n",
      "  full_data = pd.read_csv('data/1million-001.csv', sep='|', names=column_names, encoding=\"ISO-8859-1\",\n"
     ]
    }
   ],
   "source": [
    "column_names = ['id', 'source', 'date', 'page?', 'title', 'pre-title?', 'subtitle?', 'summary?', 'text', 'author']\n",
    "full_data = pd.read_csv('data/1million-001.csv', sep='|', names=column_names, encoding=\"ISO-8859-1\",\n",
    "                        on_bad_lines=\"skip\", index_col='id')"
   ]
  },
  {
   "cell_type": "code",
   "execution_count": 5,
   "id": "27d78581-c30e-44ab-a53f-26275a02b0f7",
   "metadata": {},
   "outputs": [],
   "source": [
    "full_data.index = pd.to_numeric(full_data.index, errors='coerce')\n",
    "full_data = full_data[full_data.index.notna()]\n",
    "full_data.index = full_data.index.astype('int32')"
   ]
  },
  {
   "cell_type": "code",
   "execution_count": 1,
   "id": "37c59887-4d57-4490-a253-1fcd386775f6",
   "metadata": {},
   "outputs": [],
   "source": [
    "# my data 100 articles\n",
    "dev_search_data = full_data[full_data.index.isin(dev_set_search.index[dev_set_search.index.notnull()].astype('int32'))]\n",
    "dev_sentiment_data = full_data[full_data.index.isin(dev_set_sentiment.index[dev_set_sentiment.index.notnull()].astype('int32'))]\n",
    "test_search_data = full_data[full_data.index.isin(test_set_search.index[test_set_search.index.notnull()].astype('int32'))]\n",
    "test_sentiment_data = full_data[full_data.index.isin(test_set_sentiment.index[test_set_sentiment.index.notnull()].astype('int32'))]"
   ]
  },
  {
   "cell_type": "code",
   "execution_count": 10,
   "id": "fdf4eed7-3ae8-4db5-b2a2-59a5c6e03ded",
   "metadata": {
    "scrolled": true
   },
   "outputs": [],
   "source": [
    "small_data = pd.concat([full_data.iloc[:10000], dev_search_data, dev_sentiment_data, \n",
    "                       test_search_data, test_sentiment_data]).dropna(subset=['text']).drop_duplicates()\n",
    "small_data = small_data[small_data['text'] != 'Prima pagina']\n",
    "\n",
    "small_data = small_data.replace('\\n', ' ', regex=True)"
   ]
  },
  {
   "cell_type": "code",
   "execution_count": 11,
   "id": "e0fd041d-8d22-4d21-9f5d-c55d5ffaabb1",
   "metadata": {},
   "outputs": [
    {
     "data": {
      "text/plain": [
       "(7847, 9)"
      ]
     },
     "execution_count": 11,
     "metadata": {},
     "output_type": "execute_result"
    }
   ],
   "source": [
    "small_data.shape"
   ]
  },
  {
   "cell_type": "code",
   "execution_count": 13,
   "id": "ad27d7cc-dae0-4b38-84d0-07e09602f437",
   "metadata": {},
   "outputs": [],
   "source": [
    "small_data[['source', 'date', 'title', 'author', 'text']].to_csv('data/ten_thousand_docs_final.csv', sep=\"|\", index=True)"
   ]
  },
  {
   "cell_type": "markdown",
   "id": "63e70cce-cf3c-47da-ad7b-663f65f3cfa7",
   "metadata": {},
   "source": [
    "### LLM"
   ]
  },
  {
   "cell_type": "code",
   "execution_count": 8,
   "id": "84578303-60df-4428-a2f2-b67ca4c6fd26",
   "metadata": {},
   "outputs": [],
   "source": [
    "llm = HuggingFacePipeline(pipeline=query_pipeline)"
   ]
  },
  {
   "cell_type": "markdown",
   "id": "18eb3137-68ac-4ca5-998e-787d8bcb357f",
   "metadata": {},
   "source": [
    "## RAG"
   ]
  },
  {
   "cell_type": "markdown",
   "id": "1221b035-d45c-4f80-a679-5857c3181eb7",
   "metadata": {},
   "source": [
    "## retreival "
   ]
  },
  {
   "cell_type": "code",
   "execution_count": 21,
   "id": "483afd91-6a3e-42ff-8405-bed389b1e123",
   "metadata": {},
   "outputs": [
    {
     "name": "stdout",
     "output_type": "stream",
     "text": [
      "0.196 sec.\n"
     ]
    }
   ],
   "source": [
    "time_start = time()\n",
    "loader = CSVLoader(file_path='data/ten_thousand_docs_final.csv')\n",
    "data = loader.load()\n",
    "time_end = time()\n",
    "print(f\"{round(time_end-time_start, 3)} sec.\")"
   ]
  },
  {
   "cell_type": "code",
   "execution_count": 22,
   "id": "d57a25f8-9762-4dc4-ab9f-2016a0aadb34",
   "metadata": {},
   "outputs": [
    {
     "data": {
      "text/plain": [
       "7847"
      ]
     },
     "execution_count": 22,
     "metadata": {},
     "output_type": "execute_result"
    }
   ],
   "source": [
    "len(data)"
   ]
  },
  {
   "cell_type": "code",
   "execution_count": 9,
   "id": "087bdc10-4ea0-4e7a-b006-2ba36a5399ec",
   "metadata": {},
   "outputs": [
    {
     "name": "stdout",
     "output_type": "stream",
     "text": [
      "2.231 sec.\n"
     ]
    }
   ],
   "source": [
    "time_start = time()\n",
    "# separators=[\". \"]\n",
    "# text_splitter = RecursiveCharacterTextSplitter(chunk_size=300, chunk_overlap=0, separators=separators)\n",
    "# text_splitter = RecursiveCharacterTextSplitter(chunk_size=300, chunk_overlap=50)\n",
    "# text_splitter = RecursiveCharacterTextSplitter(chunk_size=500, chunk_overlap=100)\n",
    "text_splitter = RecursiveCharacterTextSplitter(chunk_size=750, chunk_overlap=150)\n",
    "# text_splitter = RecursiveCharacterTextSplitter(chunk_size=1000, chunk_overlap=200)\n",
    "# text_splitter = RecursiveCharacterTextSplitter(chunk_size=1500, chunk_overlap=300)\n",
    "all_splits = text_splitter.split_documents(data)\n",
    "time_end = time()\n",
    "print(f\"{round(time_end-time_start, 3)} sec.\")"
   ]
  },
  {
   "cell_type": "code",
   "execution_count": 3,
   "id": "4cca78ab-9cdc-413b-88e8-cc924a2ca85b",
   "metadata": {
    "scrolled": true
   },
   "outputs": [
    {
     "name": "stderr",
     "output_type": "stream",
     "text": [
      "Some weights of the model checkpoint at dunzhang/stella_en_400M_v5 were not used when initializing NewModel: ['new.pooler.dense.bias', 'new.pooler.dense.weight']\n",
      "- This IS expected if you are initializing NewModel from the checkpoint of a model trained on another task or with another architecture (e.g. initializing a BertForSequenceClassification model from a BertForPreTraining model).\n",
      "- This IS NOT expected if you are initializing NewModel from the checkpoint of a model that you expect to be exactly identical (initializing a BertForSequenceClassification model from a BertForSequenceClassification model).\n"
     ]
    }
   ],
   "source": [
    "# model_name = \"sentence-transformers/all-mpnet-base-v2\"\n",
    "# model_name = \"sentence-transformers/all-MiniLM-L6-v2\"\n",
    "model_name = \"dunzhang/stella_en_400M_v5\"\n",
    "model_kwargs = {\"device\": \"cuda\", \"trust_remote_code\": True}\n",
    "embeddings = HuggingFaceEmbeddings(model_name=model_name, model_kwargs=model_kwargs)"
   ]
  },
  {
   "cell_type": "markdown",
   "id": "cb7e7f68-10aa-4c3e-b5c4-e4e12fe254f4",
   "metadata": {
    "jp-MarkdownHeadingCollapsed": true
   },
   "source": [
    "##### stella:"
   ]
  },
  {
   "cell_type": "code",
   "execution_count": 5,
   "id": "ade87f43-b230-4da6-93ce-102a357193ec",
   "metadata": {},
   "outputs": [],
   "source": [
    "persist_directory = \"chromadb_final/chroma_db_300_stella_sep\""
   ]
  },
  {
   "cell_type": "code",
   "execution_count": 29,
   "id": "409daaff-5c5e-416f-a257-74d2f50826d6",
   "metadata": {},
   "outputs": [],
   "source": [
    "persist_directory = \"chromadb_final/chroma_db_300_stella\""
   ]
  },
  {
   "cell_type": "code",
   "execution_count": 4,
   "id": "3a47bc6d-006e-46e0-b031-01a1b9122a92",
   "metadata": {},
   "outputs": [],
   "source": [
    "persist_directory = \"chromadb_final/chroma_db_500_stella\""
   ]
  },
  {
   "cell_type": "code",
   "execution_count": 10,
   "id": "b7890359-04ba-4083-b9fa-d64bf461090a",
   "metadata": {},
   "outputs": [],
   "source": [
    "persist_directory = \"chromadb_final/chroma_db_750_stella\""
   ]
  },
  {
   "cell_type": "code",
   "execution_count": 75,
   "id": "d22afc90-72b2-4659-af89-6609c85b321f",
   "metadata": {},
   "outputs": [],
   "source": [
    "persist_directory = \"chromadb_final/chroma_db_1000_stella\""
   ]
  },
  {
   "cell_type": "code",
   "execution_count": 24,
   "id": "1acef518-cb67-480e-909a-a6fcd69d0e83",
   "metadata": {},
   "outputs": [],
   "source": [
    "persist_directory = \"chromadb_final/chroma_db_1500_stella\""
   ]
  },
  {
   "cell_type": "markdown",
   "id": "7aaf4907-1bfd-41ae-bd56-7745c5482fd5",
   "metadata": {
    "jp-MarkdownHeadingCollapsed": true
   },
   "source": [
    "##### miniLM:"
   ]
  },
  {
   "cell_type": "code",
   "execution_count": 279,
   "id": "6598c81b-f0b4-4e5a-b816-db9ec608287b",
   "metadata": {},
   "outputs": [],
   "source": [
    "persist_directory = \"chromadb_final/chroma_db_300_miniLM_sep\""
   ]
  },
  {
   "cell_type": "code",
   "execution_count": 284,
   "id": "1f5b19b4-4fce-44a7-b3fc-1e9f961b168c",
   "metadata": {},
   "outputs": [],
   "source": [
    "persist_directory = \"chromadb_final/chroma_db_300_miniLM\""
   ]
  },
  {
   "cell_type": "code",
   "execution_count": 233,
   "id": "673588b7-6991-4d93-8761-578caa7c020f",
   "metadata": {},
   "outputs": [],
   "source": [
    "persist_directory = \"chromadb_final/chroma_db_500_miniLM\""
   ]
  },
  {
   "cell_type": "code",
   "execution_count": 264,
   "id": "33fd78bd-1419-452e-90c4-700f1522ee0e",
   "metadata": {},
   "outputs": [],
   "source": [
    "persist_directory = \"chromadb_final/chroma_db_750_miniLM\""
   ]
  },
  {
   "cell_type": "code",
   "execution_count": 269,
   "id": "1059bfe3-cd21-4833-afea-86333b37858b",
   "metadata": {},
   "outputs": [],
   "source": [
    "persist_directory = \"chromadb_final/chroma_db_1000_miniLM\""
   ]
  },
  {
   "cell_type": "code",
   "execution_count": 274,
   "id": "0e8f817d-c744-4101-b1f6-3ed32a8d70fe",
   "metadata": {},
   "outputs": [],
   "source": [
    "persist_directory = \"chromadb_final/chroma_db_1500_miniLM\""
   ]
  },
  {
   "cell_type": "markdown",
   "id": "46e867e0-d139-49c7-a1dd-dfe9c2e839e0",
   "metadata": {
    "jp-MarkdownHeadingCollapsed": true
   },
   "source": [
    "##### mpnet_base:"
   ]
  },
  {
   "cell_type": "code",
   "execution_count": 107,
   "id": "46f35983-e09d-44d4-b270-fe27d2548fb1",
   "metadata": {},
   "outputs": [],
   "source": [
    "persist_directory = \"chromadb_final/chroma_db_300_sep\""
   ]
  },
  {
   "cell_type": "code",
   "execution_count": 122,
   "id": "a098e9fd-a546-4cd6-b497-14f7f72d7a29",
   "metadata": {},
   "outputs": [],
   "source": [
    "persist_directory = \"chromadb_final/chroma_db_300\""
   ]
  },
  {
   "cell_type": "code",
   "execution_count": 139,
   "id": "fd02de53-9a5e-46f0-b364-a87ac787fef9",
   "metadata": {},
   "outputs": [],
   "source": [
    "persist_directory = \"chromadb_final/chroma_db_500\""
   ]
  },
  {
   "cell_type": "code",
   "execution_count": 154,
   "id": "e72c28ae-de5c-43a1-9560-d3c9127415b5",
   "metadata": {},
   "outputs": [],
   "source": [
    "persist_directory = \"chromadb_final/chroma_db_750\""
   ]
  },
  {
   "cell_type": "code",
   "execution_count": 170,
   "id": "afc9670a-e687-4d78-b09d-dfb3c9afa9c9",
   "metadata": {},
   "outputs": [],
   "source": [
    "persist_directory = \"chromadb_final/chroma_db_1000\""
   ]
  },
  {
   "cell_type": "code",
   "execution_count": 185,
   "id": "5d8a8f5f-f340-4954-8485-b97ee67e251e",
   "metadata": {},
   "outputs": [],
   "source": [
    "persist_directory = \"chromadb_final/chroma_db_1500\""
   ]
  },
  {
   "cell_type": "markdown",
   "id": "b44a6db0-bcb1-4a25-8f94-f473de5c248e",
   "metadata": {
    "jp-MarkdownHeadingCollapsed": true
   },
   "source": [
    "##### rest retrieval stuff"
   ]
  },
  {
   "cell_type": "code",
   "execution_count": 186,
   "id": "f99d0e48-c605-4844-a6e1-6d6f1ce4e5b5",
   "metadata": {},
   "outputs": [],
   "source": [
    "# # delete DB:\n",
    "\n",
    "# # Check if the directory exists, then delete it\n",
    "# if os.path.exists(persist_directory):\n",
    "#     shutil.rmtree(persist_directory)\n",
    "#     print(\"Database directory deleted successfully.\")\n",
    "# else:\n",
    "#     print(\"Database directory does not exist.\")"
   ]
  },
  {
   "cell_type": "code",
   "execution_count": 5,
   "id": "ddacc630-9f21-4a66-a4af-f99af362b9a9",
   "metadata": {},
   "outputs": [
    {
     "data": {
      "text/plain": [
       "'chromadb_final/chroma_db_500_stella'"
      ]
     },
     "execution_count": 5,
     "metadata": {},
     "output_type": "execute_result"
    }
   ],
   "source": [
    "persist_directory"
   ]
  },
  {
   "cell_type": "code",
   "execution_count": 6,
   "id": "b2f68afb-2295-49f4-bb31-ea81ec298701",
   "metadata": {},
   "outputs": [
    {
     "name": "stderr",
     "output_type": "stream",
     "text": [
      "/tmp/ipykernel_1558157/1639428348.py:22: LangChainDeprecationWarning: The class `Chroma` was deprecated in LangChain 0.2.9 and will be removed in 1.0. An updated version of the class exists in the :class:`~langchain-chroma package and should be used instead. To use it run `pip install -U :class:`~langchain-chroma` and import as `from :class:`~langchain_chroma import Chroma``.\n",
      "  vectordb = Chroma(embedding_function=embeddings, persist_directory=persist_directory)\n"
     ]
    }
   ],
   "source": [
    "if not os.path.exists(persist_directory):\n",
    "    # Create and persist the database if it doesn’t exist\n",
    "    time_start = time()\n",
    "    max_batch_size = 41666\n",
    "    \n",
    "    texts = [doc.page_content for doc in all_splits]\n",
    "    metadatas = [doc.metadata for doc in all_splits]\n",
    "    vectordb = Chroma(embedding_function=embeddings, persist_directory=persist_directory)\n",
    "    \n",
    "    for i in range(0, len(all_splits), max_batch_size):\n",
    "        batch_texts = texts[i:i + max_batch_size]\n",
    "        batch_metadatas = metadatas[i:i + max_batch_size]\n",
    "        vectordb.add_texts(batch_texts, metadatas=batch_metadatas)\n",
    "    \n",
    "    vectordb.persist()\n",
    "    time_end = time()\n",
    "    print(f\"{round(time_end-time_start, 3)} sec.\")\n",
    "else:\n",
    "    # Load the existing database\n",
    "    vectordb = Chroma(embedding_function=embeddings, persist_directory=persist_directory)"
   ]
  },
  {
   "cell_type": "code",
   "execution_count": null,
   "id": "50daae13-4ad6-496c-bc10-e8a16f062a49",
   "metadata": {},
   "outputs": [],
   "source": [
    "retriever = vectordb.as_retriever(\n",
    "    search_kwargs={\"k\": 5}\n",
    ")"
   ]
  },
  {
   "cell_type": "code",
   "execution_count": 10,
   "id": "65c950d7-ca59-4d94-ab13-5a3912f794e9",
   "metadata": {},
   "outputs": [],
   "source": [
    "question = \"Quali atleti hanno vinto i titoli nel Campionato provinciale indoor di tiro con l'arco a Riva del Garda nel febbraio 2014?\""
   ]
  },
  {
   "cell_type": "code",
   "execution_count": 11,
   "id": "490dfc80-4dd0-4611-b998-feea4988e018",
   "metadata": {},
   "outputs": [
    {
     "data": {
      "text/plain": [
       "[Document(metadata={'row': 28, 'source': 'data/ten_thousand_docs_final.csv'}, page_content=\"None: il Campionato provinciale indoor di tiro con l'arco ha visto una grande partecipazione di atleti lo scorso fine settimana a Riva. Tra sabato e domenica erano in 114 a sfidarsi nelle 3 tipologie,arco olimpico,arco nudo e compound,nelle varie classi femminili e maschili. Nella palestra delle scuole medie Scipio Sighele ha fatto capolino anche l'olimpionico Amedeo Tonelli che talora si allena con gli amici della Virtus Riva,la società,presieduta da Gianantonio Pfleger,che ha organizzato il\"),\n",
       " Document(metadata={'row': 4551, 'source': 'data/ten_thousand_docs_final.csv'}, page_content=\"None: inìzio col botto ||Il nuovo anno inizia nel segno del successo per gli arcieri dell'Arco Club Laives,impegnati in gare indoor sulla distanza dei 18 metri. Il primo podio è arrivato con l'arco nudo maschile e femminile grazie a Michele Terlizzi,Milanko Kulundzija e Katia Affi,a Rovereto. Non da meno i giovanissimi Elias Legame e Moritz Winkler,che si sono aggiudicati il primo ed il secondo posto individuale per l'arco olimpico. Primo posto con un totale di 1402 punti per la squadra allievi\"),\n",
       " Document(metadata={'row': 28, 'source': 'data/ten_thousand_docs_final.csv'}, page_content=\"id|source|date|title|author|text: 1000014|L'Adige|2014-02-16|Due giorni alle Sighele Provinciali con 114 arcieri Terzo Ajeti della Virtus Riva ||RIVA DEL GARDA - In un clima agonistico ma anche conviviale\"),\n",
       " Document(metadata={'row': 2068, 'source': 'data/ten_thousand_docs_final.csv'}, page_content=\"None: una culla per grandi atleti ||VILLA L AG ARI N A - Domenica 21 gennaio il «Cross Internazionale della Vallagarina» vivrà la sua edizione numero 41. Questo evento è diventato un appuntamento di prestigio nel panorama della corsa campestre non solo in Italia,ma anche in Europa,con un albo d'oro ricco dei nomi più prestigiosi della corsa prolungata. Per quanto riguarda gli italiani basta ricordare i campioni olimpici Gabriella Dorio e Gelindo Bordin e i campioni del mondo Alberto Cova e\"),\n",
       " Document(metadata={'row': 28, 'source': 'data/ten_thousand_docs_final.csv'}, page_content=\"con gli amici della Virtus Riva,la società,presieduta da Gianantonio Pfleger,che ha organizzato il campionato. L'arco olimpico ha visto trionfare,nel maschile,Alvise Bertolini,degli Arcieri Pinè,e nel femminile Cristina Ioriatti del Kappa Kosmos. Nel compound ha vinto il giovane Manuel Festi,del Kappa Kosmos,mentre nel femminile si è aggiudicata il titolo Elena Rossi di Pinè. Nell'arco nudo Pinè si è aggiudicata entrambi i titoli con Eleonora Strobbe,pluricampionessa europea e mondiale,e\")]"
      ]
     },
     "execution_count": 11,
     "metadata": {},
     "output_type": "execute_result"
    }
   ],
   "source": [
    "retriever.invoke(question)"
   ]
  },
  {
   "cell_type": "code",
   "execution_count": 28,
   "id": "bc1d95dc-7220-4465-b9bd-6569882e5b58",
   "metadata": {},
   "outputs": [],
   "source": [
    "qa = RetrievalQA.from_chain_type(\n",
    "    llm=llm, \n",
    "    chain_type=\"stuff\", \n",
    "    retriever=retriever, \n",
    "    verbose=True\n",
    ")"
   ]
  },
  {
   "cell_type": "markdown",
   "id": "6da1db0c-722f-4a19-a0b2-3b0736e45b20",
   "metadata": {},
   "source": [
    "### evaluate the retriever model:"
   ]
  },
  {
   "cell_type": "code",
   "execution_count": 29,
   "id": "db68bef6-d099-46c7-8e18-473029831bdd",
   "metadata": {},
   "outputs": [],
   "source": [
    "def iterate_over_docs_test(docs, gold_id, found_list):\n",
    "    for i in range(len(docs)):\n",
    "        row_n = docs[i].dict()['metadata']['row']\n",
    "        article_id_test = int(re.search(r'\\d+', data[row_n].dict()['page_content'])[0])\n",
    "        if article_id_test == gold_id:\n",
    "            found_list.append(1)\n",
    "            return\n",
    "    found_list.append(0)"
   ]
  },
  {
   "cell_type": "code",
   "execution_count": 32,
   "id": "28ff17d0-9de1-4a9f-8d22-76c40a7e668d",
   "metadata": {},
   "outputs": [],
   "source": [
    "def evaluate_retriever_model(dataset):\n",
    "    accuracy = []\n",
    "    for i in range(len(dataset['question'])):\n",
    "        question = dataset['question'].iloc[i]\n",
    "        # question = dataset['new_prompt'].iloc[i]\n",
    "        article_id_gold = dataset.index[i].astype('int32')\n",
    "        docs_test = retriever.invoke(question)\n",
    "        iterate_over_docs_test(docs_test, article_id_gold, accuracy)\n",
    "    return accuracy"
   ]
  },
  {
   "cell_type": "markdown",
   "id": "925ce3ad-fd9b-4046-abe0-f4ff3a9e8a23",
   "metadata": {
    "jp-MarkdownHeadingCollapsed": true
   },
   "source": [
    "##### semantic search:"
   ]
  },
  {
   "cell_type": "code",
   "execution_count": 20,
   "id": "e59c86f0-40b4-4432-a4d6-afa9b277d13e",
   "metadata": {},
   "outputs": [
    {
     "name": "stdout",
     "output_type": "stream",
     "text": [
      "search\n",
      "top1: 0.64\n",
      "top5: 0.72\n",
      "top10: 0.8\n",
      "top15: 0.88\n"
     ]
    }
   ],
   "source": [
    "print('search')\n",
    "for i in range(0, 16, 5):\n",
    "    if i == 0:\n",
    "        retriever = vectordb.as_retriever(search_kwargs={\"k\": i+1})\n",
    "        acc_search = evaluate_retriever_model(test_set_search)\n",
    "        print(f'top{i+1}: {statistics.mean(acc_search)}')\n",
    "    else:\n",
    "        retriever = vectordb.as_retriever(search_kwargs={\"k\": i})\n",
    "        acc_search = evaluate_retriever_model(test_set_search)\n",
    "        print(f'top{i}: {statistics.mean(acc_search)}')\n",
    "        # print(i)"
   ]
  },
  {
   "cell_type": "markdown",
   "id": "e564ba6c-c121-4a43-94eb-77b1f93e38aa",
   "metadata": {
    "jp-MarkdownHeadingCollapsed": true
   },
   "source": [
    "##### sentiment analysis:"
   ]
  },
  {
   "cell_type": "code",
   "execution_count": 33,
   "id": "d298cac7-82e8-481b-8ef4-25f9b57f9653",
   "metadata": {},
   "outputs": [
    {
     "name": "stdout",
     "output_type": "stream",
     "text": [
      "sentiment\n",
      "top1: 0.48\n",
      "top5: 0.64\n",
      "top10: 0.68\n",
      "top15: 0.72\n"
     ]
    }
   ],
   "source": [
    "print('sentiment')\n",
    "for i in range(0, 16, 5):\n",
    "    if i == 0:\n",
    "        retriever = vectordb.as_retriever(search_kwargs={\"k\": i+1})\n",
    "        acc_sentiment = evaluate_retriever_model(test_set_sentiment)\n",
    "        print(f'top{i+1}: {statistics.mean(acc_sentiment)}')\n",
    "    else:\n",
    "        retriever = vectordb.as_retriever(search_kwargs={\"k\": i})\n",
    "        acc_sentiment = evaluate_retriever_model(test_set_sentiment)\n",
    "        print(f'top{i}: {statistics.mean(acc_sentiment)}')\n",
    "        # print(i)"
   ]
  },
  {
   "cell_type": "markdown",
   "id": "28b257f1-1c6f-470e-984e-4007c6b56c3c",
   "metadata": {},
   "source": [
    "## evaluate generation model:"
   ]
  },
  {
   "cell_type": "markdown",
   "id": "9e922f22-98df-4f2d-b119-36850459edd2",
   "metadata": {},
   "source": [
    "### semantic search:"
   ]
  },
  {
   "cell_type": "markdown",
   "id": "7b9a3d99-0d16-4335-88aa-95519d829139",
   "metadata": {
    "jp-MarkdownHeadingCollapsed": true
   },
   "source": [
    "#### generate stuff"
   ]
  },
  {
   "cell_type": "code",
   "execution_count": 15,
   "id": "5d3ef6ab-2515-48c5-8061-1ec09f486020",
   "metadata": {},
   "outputs": [],
   "source": [
    "rag_responses_search = []\n",
    "# dev_search_questions = dev_set_search['question'].dropna().tolist()\n",
    "test_search_questions = test_set_search['question'].dropna().tolist()"
   ]
  },
  {
   "cell_type": "code",
   "execution_count": 16,
   "id": "7594432a-a714-49bd-8907-dfe49f82f976",
   "metadata": {
    "scrolled": true
   },
   "outputs": [
    {
     "name": "stderr",
     "output_type": "stream",
     "text": [
      "/tmp/ipykernel_1483570/88967192.py:2: LangChainDeprecationWarning: The method `Chain.run` was deprecated in langchain 0.1.0 and will be removed in 1.0. Use :meth:`~invoke` instead.\n",
      "  rag_response = qa.run(question)\n"
     ]
    },
    {
     "name": "stdout",
     "output_type": "stream",
     "text": [
      "\n",
      "\n",
      "\u001b[1m> Entering new RetrievalQA chain...\u001b[0m\n"
     ]
    },
    {
     "name": "stderr",
     "output_type": "stream",
     "text": [
      "Setting `pad_token_id` to `eos_token_id`:None for open-end generation.\n",
      "Starting from v4.46, the `logits` model output will have the same type as the model (except at train time, where it will always be FP32)\n"
     ]
    },
    {
     "name": "stdout",
     "output_type": "stream",
     "text": [
      "\n",
      "\u001b[1m> Finished chain.\u001b[0m\n",
      "\n",
      "\n",
      "\u001b[1m> Entering new RetrievalQA chain...\u001b[0m\n"
     ]
    },
    {
     "name": "stderr",
     "output_type": "stream",
     "text": [
      "Setting `pad_token_id` to `eos_token_id`:None for open-end generation.\n"
     ]
    },
    {
     "name": "stdout",
     "output_type": "stream",
     "text": [
      "\n",
      "\u001b[1m> Finished chain.\u001b[0m\n",
      "\n",
      "\n",
      "\u001b[1m> Entering new RetrievalQA chain...\u001b[0m\n"
     ]
    },
    {
     "name": "stderr",
     "output_type": "stream",
     "text": [
      "Setting `pad_token_id` to `eos_token_id`:None for open-end generation.\n"
     ]
    },
    {
     "name": "stdout",
     "output_type": "stream",
     "text": [
      "\n",
      "\u001b[1m> Finished chain.\u001b[0m\n",
      "\n",
      "\n",
      "\u001b[1m> Entering new RetrievalQA chain...\u001b[0m\n"
     ]
    },
    {
     "name": "stderr",
     "output_type": "stream",
     "text": [
      "Setting `pad_token_id` to `eos_token_id`:None for open-end generation.\n"
     ]
    },
    {
     "name": "stdout",
     "output_type": "stream",
     "text": [
      "\n",
      "\u001b[1m> Finished chain.\u001b[0m\n",
      "\n",
      "\n",
      "\u001b[1m> Entering new RetrievalQA chain...\u001b[0m\n"
     ]
    },
    {
     "name": "stderr",
     "output_type": "stream",
     "text": [
      "Setting `pad_token_id` to `eos_token_id`:None for open-end generation.\n"
     ]
    },
    {
     "name": "stdout",
     "output_type": "stream",
     "text": [
      "\n",
      "\u001b[1m> Finished chain.\u001b[0m\n",
      "\n",
      "\n",
      "\u001b[1m> Entering new RetrievalQA chain...\u001b[0m\n"
     ]
    },
    {
     "name": "stderr",
     "output_type": "stream",
     "text": [
      "Setting `pad_token_id` to `eos_token_id`:None for open-end generation.\n"
     ]
    },
    {
     "name": "stdout",
     "output_type": "stream",
     "text": [
      "\n",
      "\u001b[1m> Finished chain.\u001b[0m\n",
      "\n",
      "\n",
      "\u001b[1m> Entering new RetrievalQA chain...\u001b[0m\n"
     ]
    },
    {
     "name": "stderr",
     "output_type": "stream",
     "text": [
      "Setting `pad_token_id` to `eos_token_id`:None for open-end generation.\n"
     ]
    },
    {
     "name": "stdout",
     "output_type": "stream",
     "text": [
      "\n",
      "\u001b[1m> Finished chain.\u001b[0m\n",
      "\n",
      "\n",
      "\u001b[1m> Entering new RetrievalQA chain...\u001b[0m\n"
     ]
    },
    {
     "name": "stderr",
     "output_type": "stream",
     "text": [
      "Setting `pad_token_id` to `eos_token_id`:None for open-end generation.\n"
     ]
    },
    {
     "name": "stdout",
     "output_type": "stream",
     "text": [
      "\n",
      "\u001b[1m> Finished chain.\u001b[0m\n",
      "\n",
      "\n",
      "\u001b[1m> Entering new RetrievalQA chain...\u001b[0m\n"
     ]
    },
    {
     "name": "stderr",
     "output_type": "stream",
     "text": [
      "Setting `pad_token_id` to `eos_token_id`:None for open-end generation.\n"
     ]
    },
    {
     "name": "stdout",
     "output_type": "stream",
     "text": [
      "\n",
      "\u001b[1m> Finished chain.\u001b[0m\n",
      "\n",
      "\n",
      "\u001b[1m> Entering new RetrievalQA chain...\u001b[0m\n"
     ]
    },
    {
     "name": "stderr",
     "output_type": "stream",
     "text": [
      "Setting `pad_token_id` to `eos_token_id`:None for open-end generation.\n"
     ]
    },
    {
     "name": "stdout",
     "output_type": "stream",
     "text": [
      "\n",
      "\u001b[1m> Finished chain.\u001b[0m\n",
      "\n",
      "\n",
      "\u001b[1m> Entering new RetrievalQA chain...\u001b[0m\n"
     ]
    },
    {
     "name": "stderr",
     "output_type": "stream",
     "text": [
      "You seem to be using the pipelines sequentially on GPU. In order to maximize efficiency please use a dataset\n",
      "Setting `pad_token_id` to `eos_token_id`:None for open-end generation.\n"
     ]
    },
    {
     "name": "stdout",
     "output_type": "stream",
     "text": [
      "\n",
      "\u001b[1m> Finished chain.\u001b[0m\n",
      "\n",
      "\n",
      "\u001b[1m> Entering new RetrievalQA chain...\u001b[0m\n"
     ]
    },
    {
     "name": "stderr",
     "output_type": "stream",
     "text": [
      "Setting `pad_token_id` to `eos_token_id`:None for open-end generation.\n"
     ]
    },
    {
     "name": "stdout",
     "output_type": "stream",
     "text": [
      "\n",
      "\u001b[1m> Finished chain.\u001b[0m\n",
      "\n",
      "\n",
      "\u001b[1m> Entering new RetrievalQA chain...\u001b[0m\n"
     ]
    },
    {
     "name": "stderr",
     "output_type": "stream",
     "text": [
      "Setting `pad_token_id` to `eos_token_id`:None for open-end generation.\n"
     ]
    },
    {
     "name": "stdout",
     "output_type": "stream",
     "text": [
      "\n",
      "\u001b[1m> Finished chain.\u001b[0m\n",
      "\n",
      "\n",
      "\u001b[1m> Entering new RetrievalQA chain...\u001b[0m\n"
     ]
    },
    {
     "name": "stderr",
     "output_type": "stream",
     "text": [
      "Setting `pad_token_id` to `eos_token_id`:None for open-end generation.\n"
     ]
    },
    {
     "name": "stdout",
     "output_type": "stream",
     "text": [
      "\n",
      "\u001b[1m> Finished chain.\u001b[0m\n",
      "\n",
      "\n",
      "\u001b[1m> Entering new RetrievalQA chain...\u001b[0m\n"
     ]
    },
    {
     "name": "stderr",
     "output_type": "stream",
     "text": [
      "Setting `pad_token_id` to `eos_token_id`:None for open-end generation.\n"
     ]
    },
    {
     "name": "stdout",
     "output_type": "stream",
     "text": [
      "\n",
      "\u001b[1m> Finished chain.\u001b[0m\n",
      "\n",
      "\n",
      "\u001b[1m> Entering new RetrievalQA chain...\u001b[0m\n"
     ]
    },
    {
     "name": "stderr",
     "output_type": "stream",
     "text": [
      "Setting `pad_token_id` to `eos_token_id`:None for open-end generation.\n"
     ]
    },
    {
     "name": "stdout",
     "output_type": "stream",
     "text": [
      "\n",
      "\u001b[1m> Finished chain.\u001b[0m\n",
      "\n",
      "\n",
      "\u001b[1m> Entering new RetrievalQA chain...\u001b[0m\n"
     ]
    },
    {
     "name": "stderr",
     "output_type": "stream",
     "text": [
      "Setting `pad_token_id` to `eos_token_id`:None for open-end generation.\n"
     ]
    },
    {
     "name": "stdout",
     "output_type": "stream",
     "text": [
      "\n",
      "\u001b[1m> Finished chain.\u001b[0m\n",
      "\n",
      "\n",
      "\u001b[1m> Entering new RetrievalQA chain...\u001b[0m\n"
     ]
    },
    {
     "name": "stderr",
     "output_type": "stream",
     "text": [
      "Setting `pad_token_id` to `eos_token_id`:None for open-end generation.\n"
     ]
    },
    {
     "name": "stdout",
     "output_type": "stream",
     "text": [
      "\n",
      "\u001b[1m> Finished chain.\u001b[0m\n",
      "\n",
      "\n",
      "\u001b[1m> Entering new RetrievalQA chain...\u001b[0m\n"
     ]
    },
    {
     "name": "stderr",
     "output_type": "stream",
     "text": [
      "Setting `pad_token_id` to `eos_token_id`:None for open-end generation.\n"
     ]
    },
    {
     "name": "stdout",
     "output_type": "stream",
     "text": [
      "\n",
      "\u001b[1m> Finished chain.\u001b[0m\n",
      "\n",
      "\n",
      "\u001b[1m> Entering new RetrievalQA chain...\u001b[0m\n"
     ]
    },
    {
     "name": "stderr",
     "output_type": "stream",
     "text": [
      "Setting `pad_token_id` to `eos_token_id`:None for open-end generation.\n"
     ]
    },
    {
     "name": "stdout",
     "output_type": "stream",
     "text": [
      "\n",
      "\u001b[1m> Finished chain.\u001b[0m\n",
      "\n",
      "\n",
      "\u001b[1m> Entering new RetrievalQA chain...\u001b[0m\n"
     ]
    },
    {
     "name": "stderr",
     "output_type": "stream",
     "text": [
      "Setting `pad_token_id` to `eos_token_id`:None for open-end generation.\n"
     ]
    },
    {
     "name": "stdout",
     "output_type": "stream",
     "text": [
      "\n",
      "\u001b[1m> Finished chain.\u001b[0m\n",
      "\n",
      "\n",
      "\u001b[1m> Entering new RetrievalQA chain...\u001b[0m\n"
     ]
    },
    {
     "name": "stderr",
     "output_type": "stream",
     "text": [
      "Setting `pad_token_id` to `eos_token_id`:None for open-end generation.\n"
     ]
    },
    {
     "name": "stdout",
     "output_type": "stream",
     "text": [
      "\n",
      "\u001b[1m> Finished chain.\u001b[0m\n",
      "\n",
      "\n",
      "\u001b[1m> Entering new RetrievalQA chain...\u001b[0m\n"
     ]
    },
    {
     "name": "stderr",
     "output_type": "stream",
     "text": [
      "Setting `pad_token_id` to `eos_token_id`:None for open-end generation.\n"
     ]
    },
    {
     "name": "stdout",
     "output_type": "stream",
     "text": [
      "\n",
      "\u001b[1m> Finished chain.\u001b[0m\n",
      "\n",
      "\n",
      "\u001b[1m> Entering new RetrievalQA chain...\u001b[0m\n"
     ]
    },
    {
     "name": "stderr",
     "output_type": "stream",
     "text": [
      "Setting `pad_token_id` to `eos_token_id`:None for open-end generation.\n"
     ]
    },
    {
     "name": "stdout",
     "output_type": "stream",
     "text": [
      "\n",
      "\u001b[1m> Finished chain.\u001b[0m\n",
      "\n",
      "\n",
      "\u001b[1m> Entering new RetrievalQA chain...\u001b[0m\n"
     ]
    },
    {
     "name": "stderr",
     "output_type": "stream",
     "text": [
      "Setting `pad_token_id` to `eos_token_id`:None for open-end generation.\n"
     ]
    },
    {
     "name": "stdout",
     "output_type": "stream",
     "text": [
      "\n",
      "\u001b[1m> Finished chain.\u001b[0m\n"
     ]
    }
   ],
   "source": [
    "for question in test_search_questions:\n",
    "    rag_response = qa.run(question)\n",
    "    rag_responses_search.append({\n",
    "        'question': question,\n",
    "        'response': rag_response\n",
    "    })"
   ]
  },
  {
   "cell_type": "code",
   "execution_count": 17,
   "id": "bfd42b9e-7eab-43d7-bd55-14094818ae58",
   "metadata": {},
   "outputs": [],
   "source": [
    "test_search_responses = pd.DataFrame(rag_responses_search)"
   ]
  },
  {
   "cell_type": "code",
   "execution_count": 22,
   "id": "b83e309e-262b-49b8-8dad-18e6e9632762",
   "metadata": {},
   "outputs": [],
   "source": [
    "# ls data"
   ]
  },
  {
   "cell_type": "code",
   "execution_count": 18,
   "id": "58e555bd-05d5-4463-8b25-4dbe7a062a8d",
   "metadata": {},
   "outputs": [],
   "source": [
    "test_search_responses.to_csv('data/test_search_rag_responses_llama.csv', sep=\"|\", index=False)\n",
    "# dev_search_responses.to_csv('data/dev_search_rag_responses_anita.csv', sep=\"|\", index=False)"
   ]
  },
  {
   "cell_type": "code",
   "execution_count": 19,
   "id": "60a275b5-da1c-4454-8ece-c8a2cfdc1c62",
   "metadata": {
    "scrolled": true
   },
   "outputs": [],
   "source": [
    "# pd.read_csv('data/dev_search_rag_responses_llama.csv', sep=\"|\")#.replace('\\n', ' ', regex=True).to_csv('data/dev_search_rag_responses_llama.csv', sep=\"|\", index=False)\n",
    "# pd.read_csv('data/dev_search_rag_responses_anita.csv', sep=\"|\")#.replace('\\n', ' ', regex=True).to_csv('data/dev_search_rag_responses_anita.csv', sep=\"|\", index=False)"
   ]
  },
  {
   "cell_type": "code",
   "execution_count": 3,
   "id": "354693ce-8c9c-4872-aa9e-0558e60243ee",
   "metadata": {},
   "outputs": [],
   "source": [
    "test_search_responses_llama = pd.read_csv('data/test_search_rag_responses_llama.csv', sep=\"|\")\n",
    "dev_search_responses_anita = pd.read_csv('data/dev_search_rag_responses_anita.csv', sep=\"|\")\n",
    "\n",
    "test_search_responses_llama[['chatgpt_evaluation', 'mycheck']] = None\n",
    "dev_search_responses_anita[['chatgpt_evaluation', 'mycheck']] = None"
   ]
  },
  {
   "cell_type": "markdown",
   "id": "c4b3bd0e-9b73-46e2-86ef-d7d7c8a9c525",
   "metadata": {
    "jp-MarkdownHeadingCollapsed": true
   },
   "source": [
    "#### evaluate stuff"
   ]
  },
  {
   "cell_type": "markdown",
   "id": "c71d4908-67a7-4574-86cc-11f428e8187d",
   "metadata": {},
   "source": [
    "##### LLAMA"
   ]
  },
  {
   "cell_type": "code",
   "execution_count": 26,
   "id": "054e28ac-9290-4aef-b1cc-c2b64e92fac6",
   "metadata": {},
   "outputs": [
    {
     "name": "stdout",
     "output_type": "stream",
     "text": [
      "Quali furono le circostanze che portarono alla rimozione di Innocent Oseghale dal progetto di accoglienza del Gus a Macerata nel 2016?\n",
      "\n",
      "\n",
      "MODEL RESPONSE:\n",
      "  Non ho trovato informazioni specifiche sulle circostanze che portarono alla rimozione di Innocent Oseghale dal progetto di accoglienza del Gus a Macerata nel 2016. Se hai bisogno di ulteriori informazioni, ti consiglio di controllare fonti aggiornate o di rivolgerti direttamente a chi ha gestito il progetto. Non posso fornirti una risposta precisa in base alle informazioni disponibili.\n",
      "Ultima modifica: 2023-02-08\n",
      "Fonte: articolo giornalistico \"Il progetto di accoglienza del Gus a Macerata\" (data non specificata)\n",
      "Nota: Ho cercato di trovare informazioni sul progetto di accoglienza del Gus a Macerata nel 2016, ma non ho trovato nulla che indichi la rimozione di Innocent Oseghale. Se hai altre domande o richieste, sarò felice di aiutarti. \n",
      "Non riesco a fornire una risposta dettagliata in base alle informazioni disponibili. Potresti fornirmi ulteriori\n",
      "\n",
      "\n",
      "GOLD STANDARD:\n",
      " Innocent Oseghale fu accolto dal Gus alla fine del 2015, ma venne escluso dal progetto di accoglienza un anno dopo a causa delle sue attività di spaccio. Durante il periodo di accoglienza, Oseghale si fidanzò e mise incinta una ragazza del posto, ma la sua rimozione dal programma evidenziò le difficoltà e le complessità legate all'integrazione dei migranti, nonché il crescente clima di tensione e paura tra le comunità locali e i rifugiati a Macerata.\n"
     ]
    }
   ],
   "source": [
    "q_id = 2\n",
    "print(test_search_responses_llama.iloc[q_id]['question'])\n",
    "print('\\n')\n",
    "print('MODEL RESPONSE:\\n',test_search_responses_llama.iloc[q_id]['response'])\n",
    "print('\\n')\n",
    "print('GOLD STANDARD:\\n', test_set_search.iloc[q_id]['answer'])"
   ]
  },
  {
   "cell_type": "code",
   "execution_count": 14,
   "id": "79200a33-47a8-4eef-9158-9c4046db61ba",
   "metadata": {},
   "outputs": [],
   "source": [
    "# chatgpt_response = \"\"\"\n",
    "# NLI result: entailment\n",
    "# Explanation: The premise in the knowledge clearly states that the investigators focused on the breaking of the stralli (stay cables) as a possible cause of the collapse of the Ponte Morandi, citing testimony and evidence supporting this theory. The hypothesis that \"The [Knowledge] contains reliable answers aiding the response to [Question]\" is supported because the knowledge directly addresses the factors leading investigators to focus on the breakage of the stralli.\n",
    "# \"\"\"\n",
    "# print(chatgpt_response)"
   ]
  },
  {
   "cell_type": "code",
   "execution_count": 15,
   "id": "9deb7538-f9bd-44bf-b4e3-3cf3cafafd4f",
   "metadata": {},
   "outputs": [],
   "source": [
    "# test_search_responses_llama.at[q_id, 'chatgpt_evaluation'] = chatgpt_response"
   ]
  },
  {
   "cell_type": "code",
   "execution_count": 17,
   "id": "834c5766-fca1-4e0d-a288-5b87c17e7de0",
   "metadata": {},
   "outputs": [],
   "source": [
    "test_search_responses_llama.at[q_id, 'mycheck'] = 1"
   ]
  },
  {
   "cell_type": "code",
   "execution_count": 128,
   "id": "58df5e42-2785-45c3-b2f5-283bbf0e39e7",
   "metadata": {},
   "outputs": [],
   "source": [
    "test_search_responses_llama.at[q_id, 'mycheck'] = 0.5"
   ]
  },
  {
   "cell_type": "code",
   "execution_count": 25,
   "id": "0e840c6c-dc70-4a1a-b682-26d0237edbcd",
   "metadata": {
    "scrolled": true
   },
   "outputs": [
    {
     "data": {
      "text/html": [
       "<div>\n",
       "<style scoped>\n",
       "    .dataframe tbody tr th:only-of-type {\n",
       "        vertical-align: middle;\n",
       "    }\n",
       "\n",
       "    .dataframe tbody tr th {\n",
       "        vertical-align: top;\n",
       "    }\n",
       "\n",
       "    .dataframe thead th {\n",
       "        text-align: right;\n",
       "    }\n",
       "</style>\n",
       "<table border=\"1\" class=\"dataframe\">\n",
       "  <thead>\n",
       "    <tr style=\"text-align: right;\">\n",
       "      <th></th>\n",
       "      <th>question</th>\n",
       "      <th>response</th>\n",
       "      <th>chatgpt_evaluation</th>\n",
       "      <th>mycheck</th>\n",
       "    </tr>\n",
       "  </thead>\n",
       "  <tbody>\n",
       "    <tr>\n",
       "      <th>0</th>\n",
       "      <td>Quali misure specifiche sono state proposte da...</td>\n",
       "      <td>Secondo quanto riportato dall'articolo \"piogg...</td>\n",
       "      <td>\\nNLI result: entailment\\nExplanation: The [Kn...</td>\n",
       "      <td>1</td>\n",
       "    </tr>\n",
       "    <tr>\n",
       "      <th>1</th>\n",
       "      <td>Perché nel 2017 Roma ha dovuto chiedere aiuto ...</td>\n",
       "      <td>Nel 2017 Roma ha dovuto chiedere aiuto ad alt...</td>\n",
       "      <td>\\nNLI result: contradiction\\nExplanation: The ...</td>\n",
       "      <td>0</td>\n",
       "    </tr>\n",
       "    <tr>\n",
       "      <th>2</th>\n",
       "      <td>Quali furono le circostanze che portarono alla...</td>\n",
       "      <td>Non ho trovato informazioni specifiche sulle ...</td>\n",
       "      <td>\\nNLI result: contradiction\\nExplanation: The ...</td>\n",
       "      <td>0</td>\n",
       "    </tr>\n",
       "    <tr>\n",
       "      <th>3</th>\n",
       "      <td>Quali furono le circostanze che portarono alla...</td>\n",
       "      <td>Nel novembre 2014, Alitalia vendette un noozl...</td>\n",
       "      <td>\\nNLI result: contradiction\\nExplanation: The ...</td>\n",
       "      <td>0</td>\n",
       "    </tr>\n",
       "    <tr>\n",
       "      <th>4</th>\n",
       "      <td>Quali erano le problematiche evidenziate rigua...</td>\n",
       "      <td>Le problematiche evidenziate riguardo al sist...</td>\n",
       "      <td>\\nNLI result: entailment\\nExplanation: The [Kn...</td>\n",
       "      <td>1</td>\n",
       "    </tr>\n",
       "    <tr>\n",
       "      <th>5</th>\n",
       "      <td>In che modo i Migos hanno influenzato il panor...</td>\n",
       "      <td>Non ho informazioni specifiche sui Migos o su...</td>\n",
       "      <td>\\nNLI result: entailment\\nExplanation: The [Kn...</td>\n",
       "      <td>0</td>\n",
       "    </tr>\n",
       "    <tr>\n",
       "      <th>6</th>\n",
       "      <td>Quali sono state le implicazioni della sconfit...</td>\n",
       "      <td>La sconfitta del Pd ha portato a un declino d...</td>\n",
       "      <td>\\nNLI result: entailment\\nExplanation: The [Kn...</td>\n",
       "      <td>1</td>\n",
       "    </tr>\n",
       "    <tr>\n",
       "      <th>7</th>\n",
       "      <td>Quali sono state le possibili cause dell'esplo...</td>\n",
       "      <td>Non so.\\nSpiegazione: Non ho trovato informaz...</td>\n",
       "      <td>\\nNLI result: contradiction\\nExplanation: The ...</td>\n",
       "      <td>0</td>\n",
       "    </tr>\n",
       "    <tr>\n",
       "      <th>8</th>\n",
       "      <td>Quali misure di sicurezza aveva suggerito Paol...</td>\n",
       "      <td>Paolo Mazzoni aveva proposto di installare te...</td>\n",
       "      <td>\\nNLI result: entailment\\nExplanation: The hyp...</td>\n",
       "      <td>1</td>\n",
       "    </tr>\n",
       "    <tr>\n",
       "      <th>9</th>\n",
       "      <td>Quali misure di controllo sono state attuate d...</td>\n",
       "      <td>Non ho trovato informazioni sugli arresti di ...</td>\n",
       "      <td>\\nNLI result: contradiction\\nExplanation: The ...</td>\n",
       "      <td>0</td>\n",
       "    </tr>\n",
       "    <tr>\n",
       "      <th>10</th>\n",
       "      <td>Quali implicazioni avrebbe avuto l'idea di sos...</td>\n",
       "      <td>Secondo il dibattito sollevato nella lettera ...</td>\n",
       "      <td>\\nNLI result: neutral\\nExplanation: The knowle...</td>\n",
       "      <td>1</td>\n",
       "    </tr>\n",
       "    <tr>\n",
       "      <th>11</th>\n",
       "      <td>Quali erano le prospettive e le aspettative de...</td>\n",
       "      <td>Il capitano Corrado Barazzutti aveva molte as...</td>\n",
       "      <td>\\nNLI result: entailment\\nExplanation: The pre...</td>\n",
       "      <td>1</td>\n",
       "    </tr>\n",
       "    <tr>\n",
       "      <th>12</th>\n",
       "      <td>Come aveva influito l'infortunio subito da Fla...</td>\n",
       "      <td>L'infortunio subito da Flavia Pennetta aveva ...</td>\n",
       "      <td>\\nNLI result: neutral\\nExplanation: The [Knowl...</td>\n",
       "      <td>1</td>\n",
       "    </tr>\n",
       "    <tr>\n",
       "      <th>13</th>\n",
       "      <td>Quali erano le circostanze che hanno portato a...</td>\n",
       "      <td>Non so.\\n(Nota: non c'è alcuna informazione d...</td>\n",
       "      <td>\\nNLI result: contradiction\\nExplanation: The ...</td>\n",
       "      <td>0</td>\n",
       "    </tr>\n",
       "    <tr>\n",
       "      <th>14</th>\n",
       "      <td>Quali misure specifiche ha proposto Telecom pe...</td>\n",
       "      <td>Durante l'incontro di Roma del 18 gennaio 201...</td>\n",
       "      <td>\\nNLI result: entailment\\nExplanation: The kno...</td>\n",
       "      <td>1</td>\n",
       "    </tr>\n",
       "    <tr>\n",
       "      <th>15</th>\n",
       "      <td>Quali sono le modalità di richiesta e i requis...</td>\n",
       "      <td>Il bonus può essere richiesto dai genitori di...</td>\n",
       "      <td>\\nNLI result: entailment\\nExplanation: The hyp...</td>\n",
       "      <td>1</td>\n",
       "    </tr>\n",
       "    <tr>\n",
       "      <th>16</th>\n",
       "      <td>Quali erano i principali obiettivi di Elliott ...</td>\n",
       "      <td>I principali obiettivi di Elliott nell’assemb...</td>\n",
       "      <td>\\nNLI result: entailment\\nExplanation: The pre...</td>\n",
       "      <td>1</td>\n",
       "    </tr>\n",
       "    <tr>\n",
       "      <th>17</th>\n",
       "      <td>Come è stata integrata l’estetica del cinema n...</td>\n",
       "      <td>L'estetica del cinema è stata integrata nell'...</td>\n",
       "      <td>\\nNLI result: entailment\\nExplanation: The hyp...</td>\n",
       "      <td>1</td>\n",
       "    </tr>\n",
       "    <tr>\n",
       "      <th>18</th>\n",
       "      <td>Quali erano le posizioni principali e le giust...</td>\n",
       "      <td>I \"falchi\", come Klaas Knot e Jens Weidmann, ...</td>\n",
       "      <td>\\nNLI result: contradiction\\nExplanation: The ...</td>\n",
       "      <td>1</td>\n",
       "    </tr>\n",
       "    <tr>\n",
       "      <th>19</th>\n",
       "      <td>Quali sono stati i principali elementi distint...</td>\n",
       "      <td>I principali elementi distintivi della linea ...</td>\n",
       "      <td>\\nNLI result: entailment\\nExplanation: The pre...</td>\n",
       "      <td>1</td>\n",
       "    </tr>\n",
       "    <tr>\n",
       "      <th>20</th>\n",
       "      <td>Nel gennaio del 2019, quale significato ha ass...</td>\n",
       "      <td>La notizia di un possibile \"patto\" tra Beppe ...</td>\n",
       "      <td>\\nNLI result: entailment\\nExplanation: The pre...</td>\n",
       "      <td>1</td>\n",
       "    </tr>\n",
       "    <tr>\n",
       "      <th>21</th>\n",
       "      <td>Qual è il significato del titolo \"Ci tuffavamo...</td>\n",
       "      <td>Il titolo \"Ci tuffavamo dopo il maiale\" rappr...</td>\n",
       "      <td>\\nNLI result: entailment\\nExplanation: The pre...</td>\n",
       "      <td>1</td>\n",
       "    </tr>\n",
       "    <tr>\n",
       "      <th>22</th>\n",
       "      <td>Quali furono le ragioni specifiche che portaro...</td>\n",
       "      <td>Le ragioni specifiche che portarono alla sosp...</td>\n",
       "      <td>\\nNLI result: entailment\\nExplanation: The hyp...</td>\n",
       "      <td>1</td>\n",
       "    </tr>\n",
       "    <tr>\n",
       "      <th>23</th>\n",
       "      <td>In che modo l'ingresso di Netflix agli Oscar d...</td>\n",
       "      <td>L'ingresso di Netflix agli Oscar del 2019 con...</td>\n",
       "      <td>\\nNLI result: entailment\\nExplanation: The kno...</td>\n",
       "      <td>1</td>\n",
       "    </tr>\n",
       "    <tr>\n",
       "      <th>24</th>\n",
       "      <td>Quali fattori hanno portato gli investigatori ...</td>\n",
       "      <td>Gli investigatori hanno concentrato la propri...</td>\n",
       "      <td>\\nNLI result: entailment\\nExplanation: The pre...</td>\n",
       "      <td>1</td>\n",
       "    </tr>\n",
       "  </tbody>\n",
       "</table>\n",
       "</div>"
      ],
      "text/plain": [
       "                                             question  \\\n",
       "0   Quali misure specifiche sono state proposte da...   \n",
       "1   Perché nel 2017 Roma ha dovuto chiedere aiuto ...   \n",
       "2   Quali furono le circostanze che portarono alla...   \n",
       "3   Quali furono le circostanze che portarono alla...   \n",
       "4   Quali erano le problematiche evidenziate rigua...   \n",
       "5   In che modo i Migos hanno influenzato il panor...   \n",
       "6   Quali sono state le implicazioni della sconfit...   \n",
       "7   Quali sono state le possibili cause dell'esplo...   \n",
       "8   Quali misure di sicurezza aveva suggerito Paol...   \n",
       "9   Quali misure di controllo sono state attuate d...   \n",
       "10  Quali implicazioni avrebbe avuto l'idea di sos...   \n",
       "11  Quali erano le prospettive e le aspettative de...   \n",
       "12  Come aveva influito l'infortunio subito da Fla...   \n",
       "13  Quali erano le circostanze che hanno portato a...   \n",
       "14  Quali misure specifiche ha proposto Telecom pe...   \n",
       "15  Quali sono le modalità di richiesta e i requis...   \n",
       "16  Quali erano i principali obiettivi di Elliott ...   \n",
       "17  Come è stata integrata l’estetica del cinema n...   \n",
       "18  Quali erano le posizioni principali e le giust...   \n",
       "19  Quali sono stati i principali elementi distint...   \n",
       "20  Nel gennaio del 2019, quale significato ha ass...   \n",
       "21  Qual è il significato del titolo \"Ci tuffavamo...   \n",
       "22  Quali furono le ragioni specifiche che portaro...   \n",
       "23  In che modo l'ingresso di Netflix agli Oscar d...   \n",
       "24  Quali fattori hanno portato gli investigatori ...   \n",
       "\n",
       "                                             response  \\\n",
       "0    Secondo quanto riportato dall'articolo \"piogg...   \n",
       "1    Nel 2017 Roma ha dovuto chiedere aiuto ad alt...   \n",
       "2    Non ho trovato informazioni specifiche sulle ...   \n",
       "3    Nel novembre 2014, Alitalia vendette un noozl...   \n",
       "4    Le problematiche evidenziate riguardo al sist...   \n",
       "5    Non ho informazioni specifiche sui Migos o su...   \n",
       "6    La sconfitta del Pd ha portato a un declino d...   \n",
       "7    Non so.\\nSpiegazione: Non ho trovato informaz...   \n",
       "8    Paolo Mazzoni aveva proposto di installare te...   \n",
       "9    Non ho trovato informazioni sugli arresti di ...   \n",
       "10   Secondo il dibattito sollevato nella lettera ...   \n",
       "11   Il capitano Corrado Barazzutti aveva molte as...   \n",
       "12   L'infortunio subito da Flavia Pennetta aveva ...   \n",
       "13   Non so.\\n(Nota: non c'è alcuna informazione d...   \n",
       "14   Durante l'incontro di Roma del 18 gennaio 201...   \n",
       "15   Il bonus può essere richiesto dai genitori di...   \n",
       "16   I principali obiettivi di Elliott nell’assemb...   \n",
       "17   L'estetica del cinema è stata integrata nell'...   \n",
       "18   I \"falchi\", come Klaas Knot e Jens Weidmann, ...   \n",
       "19   I principali elementi distintivi della linea ...   \n",
       "20   La notizia di un possibile \"patto\" tra Beppe ...   \n",
       "21   Il titolo \"Ci tuffavamo dopo il maiale\" rappr...   \n",
       "22   Le ragioni specifiche che portarono alla sosp...   \n",
       "23   L'ingresso di Netflix agli Oscar del 2019 con...   \n",
       "24   Gli investigatori hanno concentrato la propri...   \n",
       "\n",
       "                                   chatgpt_evaluation  mycheck  \n",
       "0   \\nNLI result: entailment\\nExplanation: The [Kn...        1  \n",
       "1   \\nNLI result: contradiction\\nExplanation: The ...        0  \n",
       "2   \\nNLI result: contradiction\\nExplanation: The ...        0  \n",
       "3   \\nNLI result: contradiction\\nExplanation: The ...        0  \n",
       "4   \\nNLI result: entailment\\nExplanation: The [Kn...        1  \n",
       "5   \\nNLI result: entailment\\nExplanation: The [Kn...        0  \n",
       "6   \\nNLI result: entailment\\nExplanation: The [Kn...        1  \n",
       "7   \\nNLI result: contradiction\\nExplanation: The ...        0  \n",
       "8   \\nNLI result: entailment\\nExplanation: The hyp...        1  \n",
       "9   \\nNLI result: contradiction\\nExplanation: The ...        0  \n",
       "10  \\nNLI result: neutral\\nExplanation: The knowle...        1  \n",
       "11  \\nNLI result: entailment\\nExplanation: The pre...        1  \n",
       "12  \\nNLI result: neutral\\nExplanation: The [Knowl...        1  \n",
       "13  \\nNLI result: contradiction\\nExplanation: The ...        0  \n",
       "14  \\nNLI result: entailment\\nExplanation: The kno...        1  \n",
       "15  \\nNLI result: entailment\\nExplanation: The hyp...        1  \n",
       "16  \\nNLI result: entailment\\nExplanation: The pre...        1  \n",
       "17  \\nNLI result: entailment\\nExplanation: The hyp...        1  \n",
       "18  \\nNLI result: contradiction\\nExplanation: The ...        1  \n",
       "19  \\nNLI result: entailment\\nExplanation: The pre...        1  \n",
       "20  \\nNLI result: entailment\\nExplanation: The pre...        1  \n",
       "21  \\nNLI result: entailment\\nExplanation: The pre...        1  \n",
       "22  \\nNLI result: entailment\\nExplanation: The hyp...        1  \n",
       "23  \\nNLI result: entailment\\nExplanation: The kno...        1  \n",
       "24  \\nNLI result: entailment\\nExplanation: The pre...        1  "
      ]
     },
     "execution_count": 25,
     "metadata": {},
     "output_type": "execute_result"
    }
   ],
   "source": [
    "test_search_responses_llama"
   ]
  },
  {
   "cell_type": "code",
   "execution_count": 99,
   "id": "ae3a2471-b61b-4609-832d-01c95d5723c9",
   "metadata": {},
   "outputs": [],
   "source": [
    "# dev_search_responses_llama.iloc[0]['response']"
   ]
  },
  {
   "cell_type": "code",
   "execution_count": 100,
   "id": "b309d3e7-43bd-490b-a0ff-dc1904372505",
   "metadata": {},
   "outputs": [],
   "source": [
    "# dev_search_responses_llama.iloc[0]['chatgpt_evaluation']"
   ]
  },
  {
   "cell_type": "code",
   "execution_count": 161,
   "id": "6d1109b7-645a-4555-b55b-109699d216e5",
   "metadata": {},
   "outputs": [],
   "source": [
    "# ls data"
   ]
  },
  {
   "cell_type": "code",
   "execution_count": 163,
   "id": "e88f38e7-a4ff-4fdc-9c2f-272db33476a0",
   "metadata": {
    "scrolled": true
   },
   "outputs": [],
   "source": [
    "# test_search_responses_llama.to_csv('data/test_search_rag_responses_llama_evaluated.csv', sep=\"|\", index=False)"
   ]
  },
  {
   "cell_type": "code",
   "execution_count": 19,
   "id": "8f740c34-12cd-4e38-91d0-baffe660449e",
   "metadata": {},
   "outputs": [],
   "source": [
    "# test_search_responses_llama = pd.read_csv('data/test_search_rag_responses_llama_evaluated.csv', sep=\"|\")#, index=False)"
   ]
  },
  {
   "cell_type": "code",
   "execution_count": 85,
   "id": "1b7e2084-ca19-442c-bda9-a28c14471cba",
   "metadata": {},
   "outputs": [],
   "source": [
    "# dev_search_responses_llama.to_csv('data/dev_search_rag_responses_llama_evaluated.csv', sep=\"|\", index=False)"
   ]
  },
  {
   "cell_type": "code",
   "execution_count": 86,
   "id": "61d1acdc-1938-484e-80e9-e7ecad57df78",
   "metadata": {},
   "outputs": [],
   "source": [
    "# dev_search_responses_llama = pd.read_csv('data/dev_search_rag_responses_llama_evaluated.csv', sep=\"|\")#, index=False)"
   ]
  },
  {
   "cell_type": "code",
   "execution_count": 2,
   "id": "ab9cd521-11ac-4f0f-9beb-c0f7ba04a420",
   "metadata": {},
   "outputs": [],
   "source": [
    "# test_search_responses_llama['mycheck'].mean()"
   ]
  },
  {
   "cell_type": "markdown",
   "id": "c69c36d2-67ca-4016-ac38-2192fd06d966",
   "metadata": {
    "jp-MarkdownHeadingCollapsed": true
   },
   "source": [
    "##### ANITA"
   ]
  },
  {
   "cell_type": "code",
   "execution_count": 83,
   "id": "67a2559a-eadc-4d6a-90c7-6f163a4f266d",
   "metadata": {},
   "outputs": [
    {
     "name": "stdout",
     "output_type": "stream",
     "text": [
      "In che modo l’approccio della Blumhouse e di registi come Jordan Peele ha contribuito a trasformare il genere horror in uno strumento di critica sociale e politica?\n",
      "\n",
      "\n",
      "MODEL RESPONSE:\n",
      "  Non directly answered in the text, but can be inferred. According to the text, the author believes that the current state of Italian politics and society is reflected in the lack of engagement and responsibility shown by politicians and citizens alike, and that this is not effectively criticized or challenged through the usual channels of journalism and media. The text suggests that a more effective way of critique might be found in art forms like cinema and theatre, which can \"accendere i riflettori\" (shine a light) on societal issues. The approach of filmmakers like those mentioned may be seen as a way to challenge the status quo and spark reflection and discussion, even if only among a select audience.\n",
      "\n",
      "\n",
      "GOLD STANDARD:\n",
      " La Blumhouse e registi come Jordan Peele hanno rivoluzionato il cinema horror, trasformandolo in un genere che, oltre a suscitare paura, offre un incisivo commento sociale. Con \"Scappa - Get Out\", Peele ha dimostrato come il genere possa affrontare temi complessi come il razzismo e la discriminazione in America, utilizzando l’orrore come una lente per esplorare le paure e i pregiudizi radicati nella società. L'approccio a basso budget della Blumhouse permette libertà creativa, consentendo ai registi di esplorare sottotesti profondi e di rielaborare paure collettive con una dimensione critica, spostando così il focus dell’horror dai soli \"salti sulla sedia\" a una narrativa più stratificata e riflessiva.\n"
     ]
    }
   ],
   "source": [
    "q_id = 23\n",
    "print(dev_search_responses_anita.iloc[q_id]['question'])\n",
    "print('\\n')\n",
    "print('MODEL RESPONSE:\\n',dev_search_responses_anita.iloc[q_id]['response'])\n",
    "print('\\n')\n",
    "print('GOLD STANDARD:\\n', dev_set_search.iloc[q_id]['answer'])"
   ]
  },
  {
   "cell_type": "code",
   "execution_count": 7,
   "id": "1aa051e6-e91b-4ce8-a972-e6f2a796def6",
   "metadata": {},
   "outputs": [],
   "source": [
    "# chatgpt_response = \"\"\"\n",
    "# NLI result: contradiction\n",
    "# Explanation: The premise provided does not mention any measures taken by Virtus for direct communication with its fans, nor does it seem relevant to the actions described in the hypothesis. The premise talks about a personal decision involving voting abroad, unrelated to the topic of Virtus or communication with fans. Therefore, the hypothesis contradicts the information provided in the premise.\n",
    "# \"\"\"\n",
    "# print(chatgpt_response)"
   ]
  },
  {
   "cell_type": "code",
   "execution_count": 8,
   "id": "bb1f93f4-e5b8-4add-9a33-f6515daf422e",
   "metadata": {},
   "outputs": [],
   "source": [
    "# dev_search_responses_anita.at[q_id, 'chatgpt_evaluation'] = chatgpt_response"
   ]
  },
  {
   "cell_type": "code",
   "execution_count": 78,
   "id": "780c93bf-b5d7-42de-b31d-a4d5472e0998",
   "metadata": {},
   "outputs": [],
   "source": [
    "dev_search_responses_anita.at[q_id, 'mycheck'] = 1"
   ]
  },
  {
   "cell_type": "code",
   "execution_count": 79,
   "id": "6d3dde51-9d38-4ca1-b4c0-66898eb621d7",
   "metadata": {
    "scrolled": true
   },
   "outputs": [
    {
     "data": {
      "text/html": [
       "<div>\n",
       "<style scoped>\n",
       "    .dataframe tbody tr th:only-of-type {\n",
       "        vertical-align: middle;\n",
       "    }\n",
       "\n",
       "    .dataframe tbody tr th {\n",
       "        vertical-align: top;\n",
       "    }\n",
       "\n",
       "    .dataframe thead th {\n",
       "        text-align: right;\n",
       "    }\n",
       "</style>\n",
       "<table border=\"1\" class=\"dataframe\">\n",
       "  <thead>\n",
       "    <tr style=\"text-align: right;\">\n",
       "      <th></th>\n",
       "      <th>question</th>\n",
       "      <th>response</th>\n",
       "      <th>chatgpt_evaluation</th>\n",
       "      <th>mycheck</th>\n",
       "    </tr>\n",
       "  </thead>\n",
       "  <tbody>\n",
       "    <tr>\n",
       "      <th>0</th>\n",
       "      <td>Quali atleti hanno vinto i titoli nel Campiona...</td>\n",
       "      <td>Alvise Bertolini, Cristina Ioriatti, Elena Ro...</td>\n",
       "      <td>\\nNLI result: entailment\\nExplanation: The [Kn...</td>\n",
       "      <td>1.0</td>\n",
       "    </tr>\n",
       "    <tr>\n",
       "      <th>1</th>\n",
       "      <td>Quali alternative furono suggerite dal Coordin...</td>\n",
       "      <td>In 6.500 metri cubi a Massone e in 1400 a San...</td>\n",
       "      <td>\\nNLI result: contradiction\\nExplanation: The ...</td>\n",
       "      <td>0.0</td>\n",
       "    </tr>\n",
       "    <tr>\n",
       "      <th>2</th>\n",
       "      <td>Quali requisiti specifici dovevano soddisfare ...</td>\n",
       "      <td>I richiedenti, al termine fissato per la pres...</td>\n",
       "      <td>\\nNLI result: entailment\\n\\nExplanation: The k...</td>\n",
       "      <td>1.0</td>\n",
       "    </tr>\n",
       "    <tr>\n",
       "      <th>3</th>\n",
       "      <td>Per quali motivi Roberto Maroni decise di lasc...</td>\n",
       "      <td>The text does not explicitly state the reason...</td>\n",
       "      <td>\\nNLI result: entailment\\nExplanation: The [Kn...</td>\n",
       "      <td>0.5</td>\n",
       "    </tr>\n",
       "    <tr>\n",
       "      <th>4</th>\n",
       "      <td>Quali fattori, secondo Maria Concetta Cammarat...</td>\n",
       "      <td>La paura di nuove tasse e l'assenza di certez...</td>\n",
       "      <td>\\nNLI result: entailment\\nExplanation: The kno...</td>\n",
       "      <td>1.0</td>\n",
       "    </tr>\n",
       "    <tr>\n",
       "      <th>5</th>\n",
       "      <td>Quali strategie comunicative ha utilizzato Sar...</td>\n",
       "      <td>Non citato, non presente in questo testo. Il ...</td>\n",
       "      <td>\\nNLI result: contradiction\\nExplanation: The ...</td>\n",
       "      <td>0.0</td>\n",
       "    </tr>\n",
       "    <tr>\n",
       "      <th>6</th>\n",
       "      <td>Quali erano le aspettative del mercato riguard...</td>\n",
       "      <td>In February 2014, there were high expectation...</td>\n",
       "      <td>\\nNLI result: entailment\\nExplanation: The [Kn...</td>\n",
       "      <td>0.5</td>\n",
       "    </tr>\n",
       "    <tr>\n",
       "      <th>7</th>\n",
       "      <td>Quali misure ha adottato l'azienda ambientale ...</td>\n",
       "      <td>L'azienda ambientale Asia di Napoli, in un po...</td>\n",
       "      <td>\\nNLI result: entailment\\nExplanation: The [Kn...</td>\n",
       "      <td>1.0</td>\n",
       "    </tr>\n",
       "    <tr>\n",
       "      <th>8</th>\n",
       "      <td>Quali sono stati i principali risultati delle ...</td>\n",
       "      <td>I principali risultati sono stati: in 25 casi...</td>\n",
       "      <td>\\nNLI result: entailment\\nExplanation: The [Kn...</td>\n",
       "      <td>1.0</td>\n",
       "    </tr>\n",
       "    <tr>\n",
       "      <th>9</th>\n",
       "      <td>Quali sono state le principali caratteristiche...</td>\n",
       "      <td>Secondo l'articolo, il giardino storico previ...</td>\n",
       "      <td>\\nNLI result: entailment\\nExplanation: The [Kn...</td>\n",
       "      <td>1.0</td>\n",
       "    </tr>\n",
       "    <tr>\n",
       "      <th>10</th>\n",
       "      <td>Quali misure avevano intrapreso i vicini e i v...</td>\n",
       "      <td>Secondo il testo,non c'è menzione di un'occup...</td>\n",
       "      <td>\\nNLI result: contradiction\\nExplanation: The ...</td>\n",
       "      <td>0.0</td>\n",
       "    </tr>\n",
       "    <tr>\n",
       "      <th>11</th>\n",
       "      <td>Quali furono le circostanze che portarono al r...</td>\n",
       "      <td>Don't know, because the information is not pr...</td>\n",
       "      <td>\\nNLI result: contradiction\\nExplanation: The ...</td>\n",
       "      <td>0.0</td>\n",
       "    </tr>\n",
       "    <tr>\n",
       "      <th>12</th>\n",
       "      <td>Quali sfide hanno affrontato Gabriele Stampa e...</td>\n",
       "      <td>I due fondatori, Gabriele Stampa e Gabriele A...</td>\n",
       "      <td>\\nNLI result: entailment\\nExplanation: The pre...</td>\n",
       "      <td>1.0</td>\n",
       "    </tr>\n",
       "    <tr>\n",
       "      <th>13</th>\n",
       "      <td>Quali sono stati i principali eventi artistici...</td>\n",
       "      <td>According to the provided texts, some of the...</td>\n",
       "      <td>\\nNLI result: entailment\\nExplanation: The kno...</td>\n",
       "      <td>1.0</td>\n",
       "    </tr>\n",
       "    <tr>\n",
       "      <th>14</th>\n",
       "      <td>Quali erano le valutazioni economiche relative...</td>\n",
       "      <td>According to the article, Federico Chiesa was...</td>\n",
       "      <td>\\nNLI result: entailment\\nExplanation: The kno...</td>\n",
       "      <td>1.0</td>\n",
       "    </tr>\n",
       "    <tr>\n",
       "      <th>15</th>\n",
       "      <td>Quali sono i principali fattori che hanno cont...</td>\n",
       "      <td>Secondo l'articolo,non è il costo del bigliet...</td>\n",
       "      <td>\\nNLI result: entailment\\nExplanation: The kno...</td>\n",
       "      <td>0.5</td>\n",
       "    </tr>\n",
       "    <tr>\n",
       "      <th>16</th>\n",
       "      <td>Quali sono i motivi principali dell'esclusione...</td>\n",
       "      <td>Non sono stati specificati i motivi, ma solo ...</td>\n",
       "      <td>\\nNLI result: contradiction\\nExplanation: The ...</td>\n",
       "      <td>0.0</td>\n",
       "    </tr>\n",
       "    <tr>\n",
       "      <th>17</th>\n",
       "      <td>Quali furono le caratteristiche architettonich...</td>\n",
       "      <td>razionalista in Italia. Nell'edizione di ques...</td>\n",
       "      <td>\\nNLI result: neutral\\nExplanation: The knowle...</td>\n",
       "      <td>0.0</td>\n",
       "    </tr>\n",
       "    <tr>\n",
       "      <th>18</th>\n",
       "      <td>Quali fattori sociali e culturali sono stati i...</td>\n",
       "      <td>According to the articles, some possible caus...</td>\n",
       "      <td>\\nNLI result: entailment\\nExplanation: The hyp...</td>\n",
       "      <td>1.0</td>\n",
       "    </tr>\n",
       "    <tr>\n",
       "      <th>19</th>\n",
       "      <td>Quali sfide ha affrontato il team dell'univers...</td>\n",
       "      <td>Il team dell'università del Texas ha dovuto a...</td>\n",
       "      <td>\\nNLI result: entailment\\nExplanation: The kno...</td>\n",
       "      <td>0.5</td>\n",
       "    </tr>\n",
       "    <tr>\n",
       "      <th>20</th>\n",
       "      <td>Quali motivazioni espressero Paolo Decuzzi e L...</td>\n",
       "      <td>Non menzionano esplicitamente motivazioni, ma...</td>\n",
       "      <td>\\nNLI result: neutral\\nExplanation: The knowle...</td>\n",
       "      <td>0.5</td>\n",
       "    </tr>\n",
       "    <tr>\n",
       "      <th>21</th>\n",
       "      <td>Quali sfide ha affrontato il supervisore della...</td>\n",
       "      <td>Secondo il supervisore, la difficoltà è stata...</td>\n",
       "      <td>\\nNLI result: entailment\\nExplanation: The pre...</td>\n",
       "      <td>1.0</td>\n",
       "    </tr>\n",
       "    <tr>\n",
       "      <th>22</th>\n",
       "      <td>In che modo Giuseppe Sgarbi, nel suo libro Il ...</td>\n",
       "      <td>Il libro di Giuseppe Sgarbi, \"Il canale dei c...</td>\n",
       "      <td>\\nNLI result: entailment\\nExplanation: The hyp...</td>\n",
       "      <td>1.0</td>\n",
       "    </tr>\n",
       "    <tr>\n",
       "      <th>23</th>\n",
       "      <td>In che modo l’approccio della Blumhouse e di r...</td>\n",
       "      <td>Non directly answered in the text, but can be...</td>\n",
       "      <td>\\nNLI result: neutral\\nExplanation: The knowle...</td>\n",
       "      <td>0.0</td>\n",
       "    </tr>\n",
       "    <tr>\n",
       "      <th>24</th>\n",
       "      <td>Quali misure ha preso la Virtus per garantire ...</td>\n",
       "      <td>secondo una sua dichiarazione di opzione fatt...</td>\n",
       "      <td>\\nNLI result: contradiction\\nExplanation: The ...</td>\n",
       "      <td>0.0</td>\n",
       "    </tr>\n",
       "  </tbody>\n",
       "</table>\n",
       "</div>"
      ],
      "text/plain": [
       "                                             question  \\\n",
       "0   Quali atleti hanno vinto i titoli nel Campiona...   \n",
       "1   Quali alternative furono suggerite dal Coordin...   \n",
       "2   Quali requisiti specifici dovevano soddisfare ...   \n",
       "3   Per quali motivi Roberto Maroni decise di lasc...   \n",
       "4   Quali fattori, secondo Maria Concetta Cammarat...   \n",
       "5   Quali strategie comunicative ha utilizzato Sar...   \n",
       "6   Quali erano le aspettative del mercato riguard...   \n",
       "7   Quali misure ha adottato l'azienda ambientale ...   \n",
       "8   Quali sono stati i principali risultati delle ...   \n",
       "9   Quali sono state le principali caratteristiche...   \n",
       "10  Quali misure avevano intrapreso i vicini e i v...   \n",
       "11  Quali furono le circostanze che portarono al r...   \n",
       "12  Quali sfide hanno affrontato Gabriele Stampa e...   \n",
       "13  Quali sono stati i principali eventi artistici...   \n",
       "14  Quali erano le valutazioni economiche relative...   \n",
       "15  Quali sono i principali fattori che hanno cont...   \n",
       "16  Quali sono i motivi principali dell'esclusione...   \n",
       "17  Quali furono le caratteristiche architettonich...   \n",
       "18  Quali fattori sociali e culturali sono stati i...   \n",
       "19  Quali sfide ha affrontato il team dell'univers...   \n",
       "20  Quali motivazioni espressero Paolo Decuzzi e L...   \n",
       "21  Quali sfide ha affrontato il supervisore della...   \n",
       "22  In che modo Giuseppe Sgarbi, nel suo libro Il ...   \n",
       "23  In che modo l’approccio della Blumhouse e di r...   \n",
       "24  Quali misure ha preso la Virtus per garantire ...   \n",
       "\n",
       "                                             response  \\\n",
       "0    Alvise Bertolini, Cristina Ioriatti, Elena Ro...   \n",
       "1    In 6.500 metri cubi a Massone e in 1400 a San...   \n",
       "2    I richiedenti, al termine fissato per la pres...   \n",
       "3    The text does not explicitly state the reason...   \n",
       "4    La paura di nuove tasse e l'assenza di certez...   \n",
       "5    Non citato, non presente in questo testo. Il ...   \n",
       "6    In February 2014, there were high expectation...   \n",
       "7    L'azienda ambientale Asia di Napoli, in un po...   \n",
       "8    I principali risultati sono stati: in 25 casi...   \n",
       "9    Secondo l'articolo, il giardino storico previ...   \n",
       "10   Secondo il testo,non c'è menzione di un'occup...   \n",
       "11   Don't know, because the information is not pr...   \n",
       "12   I due fondatori, Gabriele Stampa e Gabriele A...   \n",
       "13    According to the provided texts, some of the...   \n",
       "14   According to the article, Federico Chiesa was...   \n",
       "15   Secondo l'articolo,non è il costo del bigliet...   \n",
       "16   Non sono stati specificati i motivi, ma solo ...   \n",
       "17   razionalista in Italia. Nell'edizione di ques...   \n",
       "18   According to the articles, some possible caus...   \n",
       "19   Il team dell'università del Texas ha dovuto a...   \n",
       "20   Non menzionano esplicitamente motivazioni, ma...   \n",
       "21   Secondo il supervisore, la difficoltà è stata...   \n",
       "22   Il libro di Giuseppe Sgarbi, \"Il canale dei c...   \n",
       "23   Non directly answered in the text, but can be...   \n",
       "24   secondo una sua dichiarazione di opzione fatt...   \n",
       "\n",
       "                                   chatgpt_evaluation  mycheck  \n",
       "0   \\nNLI result: entailment\\nExplanation: The [Kn...      1.0  \n",
       "1   \\nNLI result: contradiction\\nExplanation: The ...      0.0  \n",
       "2   \\nNLI result: entailment\\n\\nExplanation: The k...      1.0  \n",
       "3   \\nNLI result: entailment\\nExplanation: The [Kn...      0.5  \n",
       "4   \\nNLI result: entailment\\nExplanation: The kno...      1.0  \n",
       "5   \\nNLI result: contradiction\\nExplanation: The ...      0.0  \n",
       "6   \\nNLI result: entailment\\nExplanation: The [Kn...      0.5  \n",
       "7   \\nNLI result: entailment\\nExplanation: The [Kn...      1.0  \n",
       "8   \\nNLI result: entailment\\nExplanation: The [Kn...      1.0  \n",
       "9   \\nNLI result: entailment\\nExplanation: The [Kn...      1.0  \n",
       "10  \\nNLI result: contradiction\\nExplanation: The ...      0.0  \n",
       "11  \\nNLI result: contradiction\\nExplanation: The ...      0.0  \n",
       "12  \\nNLI result: entailment\\nExplanation: The pre...      1.0  \n",
       "13  \\nNLI result: entailment\\nExplanation: The kno...      1.0  \n",
       "14  \\nNLI result: entailment\\nExplanation: The kno...      1.0  \n",
       "15  \\nNLI result: entailment\\nExplanation: The kno...      0.5  \n",
       "16  \\nNLI result: contradiction\\nExplanation: The ...      0.0  \n",
       "17  \\nNLI result: neutral\\nExplanation: The knowle...      0.0  \n",
       "18  \\nNLI result: entailment\\nExplanation: The hyp...      1.0  \n",
       "19  \\nNLI result: entailment\\nExplanation: The kno...      0.5  \n",
       "20  \\nNLI result: neutral\\nExplanation: The knowle...      0.5  \n",
       "21  \\nNLI result: entailment\\nExplanation: The pre...      1.0  \n",
       "22  \\nNLI result: entailment\\nExplanation: The hyp...      1.0  \n",
       "23  \\nNLI result: neutral\\nExplanation: The knowle...      0.0  \n",
       "24  \\nNLI result: contradiction\\nExplanation: The ...      0.0  "
      ]
     },
     "execution_count": 79,
     "metadata": {},
     "output_type": "execute_result"
    }
   ],
   "source": [
    "dev_search_responses_anita"
   ]
  },
  {
   "cell_type": "code",
   "execution_count": 36,
   "id": "0ca60b64-6d0d-4a18-9af1-dd4fb921dbca",
   "metadata": {},
   "outputs": [],
   "source": [
    "dev_search_responses_anita.to_csv('data/dev_search_rag_responses_anita_evaluated.csv', sep=\"|\", index=False)"
   ]
  },
  {
   "cell_type": "code",
   "execution_count": 37,
   "id": "b4c21d0e-e8a3-4c77-a3a4-66b430dc5ebe",
   "metadata": {},
   "outputs": [],
   "source": [
    "dev_search_responses_anita = pd.read_csv('data/dev_search_rag_responses_anita_evaluated.csv', sep=\"|\")"
   ]
  },
  {
   "cell_type": "code",
   "execution_count": 38,
   "id": "1256e6be-128b-4235-a437-8112d158c098",
   "metadata": {},
   "outputs": [
    {
     "data": {
      "text/plain": [
       "0.56"
      ]
     },
     "execution_count": 38,
     "metadata": {},
     "output_type": "execute_result"
    }
   ],
   "source": [
    "dev_search_responses_anita['mycheck'].mean()"
   ]
  },
  {
   "cell_type": "markdown",
   "id": "e9487b1e-9a6f-4cf8-86c8-69820ce6bd5e",
   "metadata": {},
   "source": [
    "### sentiment analysis:"
   ]
  },
  {
   "cell_type": "markdown",
   "id": "1a9468e9-81dc-4bb0-8391-09622dfaf75b",
   "metadata": {},
   "source": [
    "#### generate stuff"
   ]
  },
  {
   "cell_type": "code",
   "execution_count": 34,
   "id": "aa2a1f91-b6d6-4eec-aa92-46cc5210bb0c",
   "metadata": {},
   "outputs": [],
   "source": [
    "rag_responses_sentiment = []\n",
    "instruction = \" Rispondi con una parola: positivo, negativo, neutro. Scrivi una breve spiegazione in una frase.\"\n",
    "test_set_sentiment['question'] = test_set_sentiment['question'] + instruction\n",
    "test_sentiment_questions = test_set_sentiment['question'].dropna().tolist()"
   ]
  },
  {
   "cell_type": "code",
   "execution_count": 35,
   "id": "a7e07459-9b05-4f0b-8ef3-f2e0c1d2745e",
   "metadata": {
    "scrolled": true
   },
   "outputs": [
    {
     "name": "stderr",
     "output_type": "stream",
     "text": [
      "/tmp/ipykernel_1487090/286117918.py:2: LangChainDeprecationWarning: The method `Chain.run` was deprecated in langchain 0.1.0 and will be removed in 1.0. Use :meth:`~invoke` instead.\n",
      "  rag_response = qa.run(question)\n",
      "Setting `pad_token_id` to `eos_token_id`:None for open-end generation.\n"
     ]
    },
    {
     "name": "stdout",
     "output_type": "stream",
     "text": [
      "\n",
      "\n",
      "\u001b[1m> Entering new RetrievalQA chain...\u001b[0m\n"
     ]
    },
    {
     "name": "stderr",
     "output_type": "stream",
     "text": [
      "Starting from v4.46, the `logits` model output will have the same type as the model (except at train time, where it will always be FP32)\n",
      "Setting `pad_token_id` to `eos_token_id`:None for open-end generation.\n"
     ]
    },
    {
     "name": "stdout",
     "output_type": "stream",
     "text": [
      "\n",
      "\u001b[1m> Finished chain.\u001b[0m\n",
      "\n",
      "\n",
      "\u001b[1m> Entering new RetrievalQA chain...\u001b[0m\n",
      "\n",
      "\u001b[1m> Finished chain.\u001b[0m\n",
      "\n",
      "\n",
      "\u001b[1m> Entering new RetrievalQA chain...\u001b[0m\n"
     ]
    },
    {
     "name": "stderr",
     "output_type": "stream",
     "text": [
      "Setting `pad_token_id` to `eos_token_id`:None for open-end generation.\n"
     ]
    },
    {
     "name": "stdout",
     "output_type": "stream",
     "text": [
      "\n",
      "\u001b[1m> Finished chain.\u001b[0m\n",
      "\n",
      "\n",
      "\u001b[1m> Entering new RetrievalQA chain...\u001b[0m\n"
     ]
    },
    {
     "name": "stderr",
     "output_type": "stream",
     "text": [
      "Setting `pad_token_id` to `eos_token_id`:None for open-end generation.\n"
     ]
    },
    {
     "name": "stdout",
     "output_type": "stream",
     "text": [
      "\n",
      "\u001b[1m> Finished chain.\u001b[0m\n",
      "\n",
      "\n",
      "\u001b[1m> Entering new RetrievalQA chain...\u001b[0m\n"
     ]
    },
    {
     "name": "stderr",
     "output_type": "stream",
     "text": [
      "Setting `pad_token_id` to `eos_token_id`:None for open-end generation.\n",
      "Setting `pad_token_id` to `eos_token_id`:None for open-end generation.\n"
     ]
    },
    {
     "name": "stdout",
     "output_type": "stream",
     "text": [
      "\n",
      "\u001b[1m> Finished chain.\u001b[0m\n",
      "\n",
      "\n",
      "\u001b[1m> Entering new RetrievalQA chain...\u001b[0m\n",
      "\n",
      "\u001b[1m> Finished chain.\u001b[0m\n",
      "\n",
      "\n",
      "\u001b[1m> Entering new RetrievalQA chain...\u001b[0m\n"
     ]
    },
    {
     "name": "stderr",
     "output_type": "stream",
     "text": [
      "Setting `pad_token_id` to `eos_token_id`:None for open-end generation.\n",
      "Setting `pad_token_id` to `eos_token_id`:None for open-end generation.\n"
     ]
    },
    {
     "name": "stdout",
     "output_type": "stream",
     "text": [
      "\n",
      "\u001b[1m> Finished chain.\u001b[0m\n",
      "\n",
      "\n",
      "\u001b[1m> Entering new RetrievalQA chain...\u001b[0m\n"
     ]
    },
    {
     "name": "stderr",
     "output_type": "stream",
     "text": [
      "Setting `pad_token_id` to `eos_token_id`:None for open-end generation.\n"
     ]
    },
    {
     "name": "stdout",
     "output_type": "stream",
     "text": [
      "\n",
      "\u001b[1m> Finished chain.\u001b[0m\n",
      "\n",
      "\n",
      "\u001b[1m> Entering new RetrievalQA chain...\u001b[0m\n"
     ]
    },
    {
     "name": "stderr",
     "output_type": "stream",
     "text": [
      "Setting `pad_token_id` to `eos_token_id`:None for open-end generation.\n"
     ]
    },
    {
     "name": "stdout",
     "output_type": "stream",
     "text": [
      "\n",
      "\u001b[1m> Finished chain.\u001b[0m\n",
      "\n",
      "\n",
      "\u001b[1m> Entering new RetrievalQA chain...\u001b[0m\n"
     ]
    },
    {
     "name": "stderr",
     "output_type": "stream",
     "text": [
      "You seem to be using the pipelines sequentially on GPU. In order to maximize efficiency please use a dataset\n",
      "Setting `pad_token_id` to `eos_token_id`:None for open-end generation.\n"
     ]
    },
    {
     "name": "stdout",
     "output_type": "stream",
     "text": [
      "\n",
      "\u001b[1m> Finished chain.\u001b[0m\n",
      "\n",
      "\n",
      "\u001b[1m> Entering new RetrievalQA chain...\u001b[0m\n"
     ]
    },
    {
     "name": "stderr",
     "output_type": "stream",
     "text": [
      "Setting `pad_token_id` to `eos_token_id`:None for open-end generation.\n"
     ]
    },
    {
     "name": "stdout",
     "output_type": "stream",
     "text": [
      "\n",
      "\u001b[1m> Finished chain.\u001b[0m\n",
      "\n",
      "\n",
      "\u001b[1m> Entering new RetrievalQA chain...\u001b[0m\n"
     ]
    },
    {
     "name": "stderr",
     "output_type": "stream",
     "text": [
      "Setting `pad_token_id` to `eos_token_id`:None for open-end generation.\n"
     ]
    },
    {
     "name": "stdout",
     "output_type": "stream",
     "text": [
      "\n",
      "\u001b[1m> Finished chain.\u001b[0m\n",
      "\n",
      "\n",
      "\u001b[1m> Entering new RetrievalQA chain...\u001b[0m\n"
     ]
    },
    {
     "name": "stderr",
     "output_type": "stream",
     "text": [
      "Setting `pad_token_id` to `eos_token_id`:None for open-end generation.\n"
     ]
    },
    {
     "name": "stdout",
     "output_type": "stream",
     "text": [
      "\n",
      "\u001b[1m> Finished chain.\u001b[0m\n",
      "\n",
      "\n",
      "\u001b[1m> Entering new RetrievalQA chain...\u001b[0m\n"
     ]
    },
    {
     "name": "stderr",
     "output_type": "stream",
     "text": [
      "Setting `pad_token_id` to `eos_token_id`:None for open-end generation.\n"
     ]
    },
    {
     "name": "stdout",
     "output_type": "stream",
     "text": [
      "\n",
      "\u001b[1m> Finished chain.\u001b[0m\n",
      "\n",
      "\n",
      "\u001b[1m> Entering new RetrievalQA chain...\u001b[0m\n"
     ]
    },
    {
     "name": "stderr",
     "output_type": "stream",
     "text": [
      "Setting `pad_token_id` to `eos_token_id`:None for open-end generation.\n"
     ]
    },
    {
     "name": "stdout",
     "output_type": "stream",
     "text": [
      "\n",
      "\u001b[1m> Finished chain.\u001b[0m\n",
      "\n",
      "\n",
      "\u001b[1m> Entering new RetrievalQA chain...\u001b[0m\n",
      "\n",
      "\u001b[1m> Finished chain.\u001b[0m\n",
      "\n",
      "\n",
      "\u001b[1m> Entering new RetrievalQA chain...\u001b[0m\n"
     ]
    },
    {
     "name": "stderr",
     "output_type": "stream",
     "text": [
      "Setting `pad_token_id` to `eos_token_id`:None for open-end generation.\n",
      "Setting `pad_token_id` to `eos_token_id`:None for open-end generation.\n"
     ]
    },
    {
     "name": "stdout",
     "output_type": "stream",
     "text": [
      "\n",
      "\u001b[1m> Finished chain.\u001b[0m\n",
      "\n",
      "\n",
      "\u001b[1m> Entering new RetrievalQA chain...\u001b[0m\n"
     ]
    },
    {
     "name": "stderr",
     "output_type": "stream",
     "text": [
      "Setting `pad_token_id` to `eos_token_id`:None for open-end generation.\n"
     ]
    },
    {
     "name": "stdout",
     "output_type": "stream",
     "text": [
      "\n",
      "\u001b[1m> Finished chain.\u001b[0m\n",
      "\n",
      "\n",
      "\u001b[1m> Entering new RetrievalQA chain...\u001b[0m\n"
     ]
    },
    {
     "name": "stderr",
     "output_type": "stream",
     "text": [
      "Setting `pad_token_id` to `eos_token_id`:None for open-end generation.\n"
     ]
    },
    {
     "name": "stdout",
     "output_type": "stream",
     "text": [
      "\n",
      "\u001b[1m> Finished chain.\u001b[0m\n",
      "\n",
      "\n",
      "\u001b[1m> Entering new RetrievalQA chain...\u001b[0m\n"
     ]
    },
    {
     "name": "stderr",
     "output_type": "stream",
     "text": [
      "Setting `pad_token_id` to `eos_token_id`:None for open-end generation.\n"
     ]
    },
    {
     "name": "stdout",
     "output_type": "stream",
     "text": [
      "\n",
      "\u001b[1m> Finished chain.\u001b[0m\n",
      "\n",
      "\n",
      "\u001b[1m> Entering new RetrievalQA chain...\u001b[0m\n"
     ]
    },
    {
     "name": "stderr",
     "output_type": "stream",
     "text": [
      "Setting `pad_token_id` to `eos_token_id`:None for open-end generation.\n"
     ]
    },
    {
     "name": "stdout",
     "output_type": "stream",
     "text": [
      "\n",
      "\u001b[1m> Finished chain.\u001b[0m\n",
      "\n",
      "\n",
      "\u001b[1m> Entering new RetrievalQA chain...\u001b[0m\n"
     ]
    },
    {
     "name": "stderr",
     "output_type": "stream",
     "text": [
      "Setting `pad_token_id` to `eos_token_id`:None for open-end generation.\n"
     ]
    },
    {
     "name": "stdout",
     "output_type": "stream",
     "text": [
      "\n",
      "\u001b[1m> Finished chain.\u001b[0m\n",
      "\n",
      "\n",
      "\u001b[1m> Entering new RetrievalQA chain...\u001b[0m\n",
      "\n",
      "\u001b[1m> Finished chain.\u001b[0m\n",
      "\n",
      "\n",
      "\u001b[1m> Entering new RetrievalQA chain...\u001b[0m\n"
     ]
    },
    {
     "name": "stderr",
     "output_type": "stream",
     "text": [
      "Setting `pad_token_id` to `eos_token_id`:None for open-end generation.\n",
      "Setting `pad_token_id` to `eos_token_id`:None for open-end generation.\n"
     ]
    },
    {
     "name": "stdout",
     "output_type": "stream",
     "text": [
      "\n",
      "\u001b[1m> Finished chain.\u001b[0m\n",
      "\n",
      "\n",
      "\u001b[1m> Entering new RetrievalQA chain...\u001b[0m\n",
      "\n",
      "\u001b[1m> Finished chain.\u001b[0m\n"
     ]
    }
   ],
   "source": [
    "for question in test_sentiment_questions:\n",
    "    rag_response = qa.run(question)\n",
    "    rag_responses_sentiment.append({\n",
    "        'question': question,\n",
    "        'response': rag_response\n",
    "    })"
   ]
  },
  {
   "cell_type": "code",
   "execution_count": 38,
   "id": "84688ccc-c98f-48fb-82a0-b00996146653",
   "metadata": {},
   "outputs": [],
   "source": [
    "test_sentiment_responses = pd.DataFrame(rag_responses_sentiment)"
   ]
  },
  {
   "cell_type": "code",
   "execution_count": 39,
   "id": "6c9368ee-1356-4319-970d-fed9c78a0eed",
   "metadata": {},
   "outputs": [],
   "source": [
    "# dev_sentiment_responses.to_csv('data/dev_sentiment_rag_responses_llama.csv', sep=\"|\", index=False)\n",
    "# test_sentiment_responses.to_csv('data/test_sentiment_rag_responses_anita.csv', sep=\"|\", index=False)"
   ]
  },
  {
   "cell_type": "code",
   "execution_count": 41,
   "id": "51d97fad-dde7-4848-a0ca-190e6d84b06a",
   "metadata": {},
   "outputs": [],
   "source": [
    "pd.read_csv('data/dev_sentiment_rag_responses_llama.csv', sep=\"|\")#.replace('\\n', ' ', regex=True).to_csv('data/dev_sentiment_rag_responses_llama.csv', sep=\"|\", index=False)\n",
    "pd.read_csv('data/test_sentiment_rag_responses_anita.csv', sep=\"|\")#.to_csv('data/dev_sentiment_rag_responses_anita.csv', sep=\"|\", index=False)"
   ]
  },
  {
   "cell_type": "markdown",
   "id": "1002638c-59fa-43b1-bf80-91222481ac12",
   "metadata": {},
   "source": [
    "#### evaluate stuff"
   ]
  },
  {
   "cell_type": "markdown",
   "id": "432d4758-d7ac-4027-a18d-d5180ac57218",
   "metadata": {},
   "source": [
    "##### llama:"
   ]
  },
  {
   "cell_type": "code",
   "execution_count": 16,
   "id": "ea59fbee-c1aa-4df5-98ce-6e26af947284",
   "metadata": {},
   "outputs": [],
   "source": [
    "dev_sentiment_responses_llama = pd.read_csv('data/dev_sentiment_rag_responses_llama.csv', sep=\"|\")\n",
    "dev_sentiment_responses_llama[['mycheck']] = None"
   ]
  },
  {
   "cell_type": "code",
   "execution_count": 16,
   "id": "ac8e6f03-35aa-4d9c-966e-bd7c8e63748a",
   "metadata": {},
   "outputs": [],
   "source": [
    "q_id = 12"
   ]
  },
  {
   "cell_type": "code",
   "execution_count": 17,
   "id": "ededb818-62e7-40c4-84e8-027e5e173721",
   "metadata": {},
   "outputs": [
    {
     "name": "stdout",
     "output_type": "stream",
     "text": [
      "GOLD STANDARD:\n",
      " negative\n"
     ]
    }
   ],
   "source": [
    "print('GOLD STANDARD:\\n', dev_set_sentiment.iloc[q_id]['sentiment'])"
   ]
  },
  {
   "cell_type": "code",
   "execution_count": 138,
   "id": "e77867e9-6ef4-49e1-8437-6385382b4ee7",
   "metadata": {},
   "outputs": [
    {
     "data": {
      "text/plain": [
       "\" neutro Spiegazione: L'articolo riporta le dichiarazioni di Elisabetta Romiti e Renato Ugo Carlo, che esprimono un senso di amarezza e disappunto per la decadenza di alcune scuole specialistiche all'Ospedale San Matteo di Pavia, ma senza un tono esplicitamente negativo o positivo.  Risposta finale: neutro.   L'articolo riporta le dichiarazioni di Elisabetta Romiti e Renato Ugo Carlo, che esprimono un senso di amarezza e disappunto per la decadenza di alcune scuole specialistiche all'Ospedale San Matteo di Pavia, ma senza un tono esplicitamente negativo o positivo.  Risposta finale: neutro.   L'articolo riporta le dichiarazioni di Elisabetta Romiti e Renato Ugo Carlo, che esprimono un senso di amarezza e disappunto per la decadenza di alcune scuole specialistiche all'Ospedale San Matteo di Pavia,\""
      ]
     },
     "execution_count": 138,
     "metadata": {},
     "output_type": "execute_result"
    }
   ],
   "source": [
    "dev_sentiment_responses_llama.iloc[q_id]['response']"
   ]
  },
  {
   "cell_type": "code",
   "execution_count": 139,
   "id": "987ec222-02aa-4eea-b083-fc92ced5d46a",
   "metadata": {},
   "outputs": [],
   "source": [
    "dev_sentiment_responses_llama.at[q_id, 'mycheck'] = 0"
   ]
  },
  {
   "cell_type": "code",
   "execution_count": 15,
   "id": "babfd63b-7c98-43b8-a0b1-090c22e37e43",
   "metadata": {
    "scrolled": true
   },
   "outputs": [
    {
     "data": {
      "text/html": [
       "<div>\n",
       "<style scoped>\n",
       "    .dataframe tbody tr th:only-of-type {\n",
       "        vertical-align: middle;\n",
       "    }\n",
       "\n",
       "    .dataframe tbody tr th {\n",
       "        vertical-align: top;\n",
       "    }\n",
       "\n",
       "    .dataframe thead th {\n",
       "        text-align: right;\n",
       "    }\n",
       "</style>\n",
       "<table border=\"1\" class=\"dataframe\">\n",
       "  <thead>\n",
       "    <tr style=\"text-align: right;\">\n",
       "      <th></th>\n",
       "      <th>question</th>\n",
       "      <th>response</th>\n",
       "      <th>mycheck</th>\n",
       "    </tr>\n",
       "  </thead>\n",
       "  <tbody>\n",
       "    <tr>\n",
       "      <th>0</th>\n",
       "      <td>Qual è il sentiment espresso nell'articolo pub...</td>\n",
       "      <td>neutro  The article is a simple report on a n...</td>\n",
       "      <td>0</td>\n",
       "    </tr>\n",
       "    <tr>\n",
       "      <th>1</th>\n",
       "      <td>Quali sentimenti emergono dai lavoratori e dal...</td>\n",
       "      <td>negativo The negative sentiment emerges from ...</td>\n",
       "      <td>1</td>\n",
       "    </tr>\n",
       "    <tr>\n",
       "      <th>2</th>\n",
       "      <td>Qual è il sentiment espresso nell'articolo pub...</td>\n",
       "      <td>negativo, La chiusura della Memc e l'impatto ...</td>\n",
       "      <td>1</td>\n",
       "    </tr>\n",
       "    <tr>\n",
       "      <th>3</th>\n",
       "      <td>Qual è il sentiment espresso da Francesco Terr...</td>\n",
       "      <td>negativo. Della notizia dei licenziamenti,Fra...</td>\n",
       "      <td>1</td>\n",
       "    </tr>\n",
       "    <tr>\n",
       "      <th>4</th>\n",
       "      <td>Qual è il sentiment espresso da Corinna De Ces...</td>\n",
       "      <td>negativo, La risposta si basa su un articolo ...</td>\n",
       "      <td>1</td>\n",
       "    </tr>\n",
       "    <tr>\n",
       "      <th>5</th>\n",
       "      <td>Qual è il sentiment espresso da \"L'Adige\" rigu...</td>\n",
       "      <td>negativo Explanation: According to the articl...</td>\n",
       "      <td>1</td>\n",
       "    </tr>\n",
       "    <tr>\n",
       "      <th>6</th>\n",
       "      <td>Qual è il sentiment espresso da Andrea Greco r...</td>\n",
       "      <td>positivo'',because according to the article, ...</td>\n",
       "      <td>0</td>\n",
       "    </tr>\n",
       "    <tr>\n",
       "      <th>7</th>\n",
       "      <td>Qual è il sentiment espresso riguardo a Vodafo...</td>\n",
       "      <td>negativo, La recensione è negativa in quanto ...</td>\n",
       "      <td>1</td>\n",
       "    </tr>\n",
       "    <tr>\n",
       "      <th>8</th>\n",
       "      <td>Qual è il sentiment espresso da Sergio Rizzo r...</td>\n",
       "      <td>negativo   A brief explanation: According to ...</td>\n",
       "      <td>1</td>\n",
       "    </tr>\n",
       "    <tr>\n",
       "      <th>9</th>\n",
       "      <td>Qual è il sentiment de \"La Stampa\" del 15 genn...</td>\n",
       "      <td>neutro  The article of La Stampa on January 1...</td>\n",
       "      <td>0</td>\n",
       "    </tr>\n",
       "    <tr>\n",
       "      <th>10</th>\n",
       "      <td>Qual è il sentiment dell'articolo di \"Alto Adi...</td>\n",
       "      <td>neutro  The article doesn't mention Etruria a...</td>\n",
       "      <td>0</td>\n",
       "    </tr>\n",
       "    <tr>\n",
       "      <th>11</th>\n",
       "      <td>Qual è il sentiment de \"Il Giornale\" del 2 set...</td>\n",
       "      <td>negativo. Il giornale esprime disapprovazione...</td>\n",
       "      <td>1</td>\n",
       "    </tr>\n",
       "    <tr>\n",
       "      <th>12</th>\n",
       "      <td>Qual è il sentiment espresso da \"La Repubblica...</td>\n",
       "      <td>neutro  No specific article was found for Dec...</td>\n",
       "      <td>0</td>\n",
       "    </tr>\n",
       "    <tr>\n",
       "      <th>13</th>\n",
       "      <td>Qual è il sentiment espresso nell'articolo pub...</td>\n",
       "      <td>positivo The article expresses a positive vie...</td>\n",
       "      <td>1</td>\n",
       "    </tr>\n",
       "    <tr>\n",
       "      <th>14</th>\n",
       "      <td>Qual è il sentiment espresso nell'articolo pub...</td>\n",
       "      <td>positivo The brief explanation is: The articl...</td>\n",
       "      <td>1</td>\n",
       "    </tr>\n",
       "    <tr>\n",
       "      <th>15</th>\n",
       "      <td>Qual è il sentiment espresso nell'articolo pub...</td>\n",
       "      <td>neutro  The article does not express any opin...</td>\n",
       "      <td>0</td>\n",
       "    </tr>\n",
       "    <tr>\n",
       "      <th>16</th>\n",
       "      <td>Qual è il sentiment espresso nell'articolo pub...</td>\n",
       "      <td>positivo, La notizia relativa all'aumento dei...</td>\n",
       "      <td>1</td>\n",
       "    </tr>\n",
       "    <tr>\n",
       "      <th>17</th>\n",
       "      <td>Qual è il sentiment espresso nell'articolo pub...</td>\n",
       "      <td>neutro  The article does not express a clear ...</td>\n",
       "      <td>0</td>\n",
       "    </tr>\n",
       "    <tr>\n",
       "      <th>18</th>\n",
       "      <td>Qual è il sentiment espresso nell'articolo pub...</td>\n",
       "      <td>positivo | La spiegazione è che l'autore espr...</td>\n",
       "      <td>1</td>\n",
       "    </tr>\n",
       "    <tr>\n",
       "      <th>19</th>\n",
       "      <td>Qual è il sentiment espresso nell'articolo pub...</td>\n",
       "      <td>positivo, La spiegazione è che l'autore espri...</td>\n",
       "      <td>1</td>\n",
       "    </tr>\n",
       "    <tr>\n",
       "      <th>20</th>\n",
       "      <td>Qual è l'opinione espressa nell'articolo pubbl...</td>\n",
       "      <td>positivo, Sulla base dell'articolo, l'autore ...</td>\n",
       "      <td>1</td>\n",
       "    </tr>\n",
       "    <tr>\n",
       "      <th>21</th>\n",
       "      <td>Qual è il sentiment espresso nell'articolo pub...</td>\n",
       "      <td>Positivo A brief explanation: The article rep...</td>\n",
       "      <td>1</td>\n",
       "    </tr>\n",
       "    <tr>\n",
       "      <th>22</th>\n",
       "      <td>Qual è l'opinione espresso nell'articolo pubbl...</td>\n",
       "      <td>positivo Spiegazione: L'articolo elogia il ge...</td>\n",
       "      <td>1</td>\n",
       "    </tr>\n",
       "    <tr>\n",
       "      <th>23</th>\n",
       "      <td>Qual è il sentiment espresso nell'articolo pub...</td>\n",
       "      <td>positivo The article presents the results of ...</td>\n",
       "      <td>1</td>\n",
       "    </tr>\n",
       "    <tr>\n",
       "      <th>24</th>\n",
       "      <td>Qual è il sentiment espresso nell'articolo pub...</td>\n",
       "      <td>negativo, La relazione è negativa in quanto l...</td>\n",
       "      <td>0</td>\n",
       "    </tr>\n",
       "  </tbody>\n",
       "</table>\n",
       "</div>"
      ],
      "text/plain": [
       "                                             question  \\\n",
       "0   Qual è il sentiment espresso nell'articolo pub...   \n",
       "1   Quali sentimenti emergono dai lavoratori e dal...   \n",
       "2   Qual è il sentiment espresso nell'articolo pub...   \n",
       "3   Qual è il sentiment espresso da Francesco Terr...   \n",
       "4   Qual è il sentiment espresso da Corinna De Ces...   \n",
       "5   Qual è il sentiment espresso da \"L'Adige\" rigu...   \n",
       "6   Qual è il sentiment espresso da Andrea Greco r...   \n",
       "7   Qual è il sentiment espresso riguardo a Vodafo...   \n",
       "8   Qual è il sentiment espresso da Sergio Rizzo r...   \n",
       "9   Qual è il sentiment de \"La Stampa\" del 15 genn...   \n",
       "10  Qual è il sentiment dell'articolo di \"Alto Adi...   \n",
       "11  Qual è il sentiment de \"Il Giornale\" del 2 set...   \n",
       "12  Qual è il sentiment espresso da \"La Repubblica...   \n",
       "13  Qual è il sentiment espresso nell'articolo pub...   \n",
       "14  Qual è il sentiment espresso nell'articolo pub...   \n",
       "15  Qual è il sentiment espresso nell'articolo pub...   \n",
       "16  Qual è il sentiment espresso nell'articolo pub...   \n",
       "17  Qual è il sentiment espresso nell'articolo pub...   \n",
       "18  Qual è il sentiment espresso nell'articolo pub...   \n",
       "19  Qual è il sentiment espresso nell'articolo pub...   \n",
       "20  Qual è l'opinione espressa nell'articolo pubbl...   \n",
       "21  Qual è il sentiment espresso nell'articolo pub...   \n",
       "22  Qual è l'opinione espresso nell'articolo pubbl...   \n",
       "23  Qual è il sentiment espresso nell'articolo pub...   \n",
       "24  Qual è il sentiment espresso nell'articolo pub...   \n",
       "\n",
       "                                             response  mycheck  \n",
       "0    neutro  The article is a simple report on a n...        0  \n",
       "1    negativo The negative sentiment emerges from ...        1  \n",
       "2    negativo, La chiusura della Memc e l'impatto ...        1  \n",
       "3    negativo. Della notizia dei licenziamenti,Fra...        1  \n",
       "4    negativo, La risposta si basa su un articolo ...        1  \n",
       "5    negativo Explanation: According to the articl...        1  \n",
       "6    positivo'',because according to the article, ...        0  \n",
       "7    negativo, La recensione è negativa in quanto ...        1  \n",
       "8    negativo   A brief explanation: According to ...        1  \n",
       "9    neutro  The article of La Stampa on January 1...        0  \n",
       "10   neutro  The article doesn't mention Etruria a...        0  \n",
       "11   negativo. Il giornale esprime disapprovazione...        1  \n",
       "12   neutro  No specific article was found for Dec...        0  \n",
       "13   positivo The article expresses a positive vie...        1  \n",
       "14   positivo The brief explanation is: The articl...        1  \n",
       "15   neutro  The article does not express any opin...        0  \n",
       "16   positivo, La notizia relativa all'aumento dei...        1  \n",
       "17   neutro  The article does not express a clear ...        0  \n",
       "18   positivo | La spiegazione è che l'autore espr...        1  \n",
       "19   positivo, La spiegazione è che l'autore espri...        1  \n",
       "20   positivo, Sulla base dell'articolo, l'autore ...        1  \n",
       "21   Positivo A brief explanation: The article rep...        1  \n",
       "22   positivo Spiegazione: L'articolo elogia il ge...        1  \n",
       "23   positivo The article presents the results of ...        1  \n",
       "24   negativo, La relazione è negativa in quanto l...        0  "
      ]
     },
     "execution_count": 15,
     "metadata": {},
     "output_type": "execute_result"
    }
   ],
   "source": [
    "dev_sentiment_responses_anita#['response'].iloc[0]"
   ]
  },
  {
   "cell_type": "code",
   "execution_count": 148,
   "id": "1d295aaa-b5aa-4788-bf19-8d3066548a48",
   "metadata": {},
   "outputs": [],
   "source": [
    "# dev_sentiment_responses_llama.to_csv('data/dev_sentiment_rag_responses_llama_evaluated.csv', sep=\"|\", index=False)"
   ]
  },
  {
   "cell_type": "code",
   "execution_count": 3,
   "id": "5ccfa685-4b71-4069-82c5-15021b8477a9",
   "metadata": {},
   "outputs": [],
   "source": [
    "# dev_sentiment_responses_llama = pd.read_csv('data/dev_sentiment_rag_responses_llama_evaluated.csv', sep=\"|\")"
   ]
  },
  {
   "cell_type": "code",
   "execution_count": 13,
   "id": "b3e6e235-8798-4a4d-87e6-d81cec61e631",
   "metadata": {},
   "outputs": [],
   "source": [
    "dev_sentiment_responses_anita = pd.read_csv('data/dev_sentiment_rag_responses_anita_evaluated.csv', sep=\"|\")"
   ]
  },
  {
   "cell_type": "code",
   "execution_count": 151,
   "id": "07f66172-62cb-4bf2-85da-ee846ff9e614",
   "metadata": {},
   "outputs": [
    {
     "data": {
      "text/plain": [
       "0.32"
      ]
     },
     "execution_count": 151,
     "metadata": {},
     "output_type": "execute_result"
    }
   ],
   "source": [
    "dev_sentiment_responses_llama['mycheck'].mean()"
   ]
  },
  {
   "cell_type": "markdown",
   "id": "9409392b-9793-4d83-925e-bfd21276f318",
   "metadata": {},
   "source": [
    "##### ANITA"
   ]
  },
  {
   "cell_type": "code",
   "execution_count": 42,
   "id": "04241a92-11dc-4bb9-be50-2a37f18e63d9",
   "metadata": {},
   "outputs": [],
   "source": [
    "test_sentiment_responses_anita = pd.read_csv('data/test_sentiment_rag_responses_anita.csv', sep=\"|\")\n",
    "test_sentiment_responses_anita[['mycheck']] = None"
   ]
  },
  {
   "cell_type": "code",
   "execution_count": 23,
   "id": "6b2caecf-631a-4505-af68-2d0ebbd55111",
   "metadata": {},
   "outputs": [],
   "source": [
    "q_id = 12"
   ]
  },
  {
   "cell_type": "code",
   "execution_count": 24,
   "id": "c7fd9d52-de37-4408-9234-fc41e24892a0",
   "metadata": {},
   "outputs": [
    {
     "name": "stdout",
     "output_type": "stream",
     "text": [
      "GOLD STANDARD:\n",
      " positive\n"
     ]
    }
   ],
   "source": [
    "print('GOLD STANDARD:\\n', test_set_sentiment.iloc[q_id]['sentiment'])"
   ]
  },
  {
   "cell_type": "code",
   "execution_count": 152,
   "id": "b6e529ad-4b61-469f-be10-3a58ccdcf0c3",
   "metadata": {},
   "outputs": [
    {
     "data": {
      "text/plain": [
       "\" positivo\\n\\nThe brief explanation is: The article published on January 4th, 2019 by La Stampa reports a positive trend in the US sales of Fiat Chrysler and highlights the good results achieved by Jeep and Alfa Romeo, with a significant growth in the sales of the former and a remarkable increase in the latter's sales, almost doubling them in 2018. \""
      ]
     },
     "execution_count": 152,
     "metadata": {},
     "output_type": "execute_result"
    }
   ],
   "source": [
    "test_sentiment_responses_anita.iloc[q_id]['response']"
   ]
  },
  {
   "cell_type": "code",
   "execution_count": 153,
   "id": "c0bccd51-32f5-4abf-9a91-aee21384fce3",
   "metadata": {},
   "outputs": [],
   "source": [
    "test_sentiment_responses_anita.at[q_id, 'mycheck'] = 1"
   ]
  },
  {
   "cell_type": "code",
   "execution_count": 27,
   "id": "479911ff-8bf5-4609-aa6e-366a6747e30d",
   "metadata": {
    "scrolled": true
   },
   "outputs": [
    {
     "data": {
      "text/html": [
       "<div>\n",
       "<style scoped>\n",
       "    .dataframe tbody tr th:only-of-type {\n",
       "        vertical-align: middle;\n",
       "    }\n",
       "\n",
       "    .dataframe tbody tr th {\n",
       "        vertical-align: top;\n",
       "    }\n",
       "\n",
       "    .dataframe thead th {\n",
       "        text-align: right;\n",
       "    }\n",
       "</style>\n",
       "<table border=\"1\" class=\"dataframe\">\n",
       "  <thead>\n",
       "    <tr style=\"text-align: right;\">\n",
       "      <th></th>\n",
       "      <th>question</th>\n",
       "      <th>response</th>\n",
       "      <th>mycheck</th>\n",
       "    </tr>\n",
       "  </thead>\n",
       "  <tbody>\n",
       "    <tr>\n",
       "      <th>0</th>\n",
       "      <td>Qual è il sentiment espresso dal \"Corriere del...</td>\n",
       "      <td>neutro\\nThe article is not dated as January 2...</td>\n",
       "      <td>0</td>\n",
       "    </tr>\n",
       "    <tr>\n",
       "      <th>1</th>\n",
       "      <td>Qual è l'opinione espressa da \"L'Adige\" nei co...</td>\n",
       "      <td>neutro. L'articolo non menziona né Fiat, né S...</td>\n",
       "      <td>0</td>\n",
       "    </tr>\n",
       "    <tr>\n",
       "      <th>2</th>\n",
       "      <td>Qual è il sentiment espresso da La Stampa nei ...</td>\n",
       "      <td>negativo \\nThe article expresses a negative s...</td>\n",
       "      <td>1</td>\n",
       "    </tr>\n",
       "    <tr>\n",
       "      <th>3</th>\n",
       "      <td>Qual è il sentiment espresso dal Corriere dell...</td>\n",
       "      <td>negativo, \\nThe Corriere della Sera expresses...</td>\n",
       "      <td>1</td>\n",
       "    </tr>\n",
       "    <tr>\n",
       "      <th>4</th>\n",
       "      <td>Qual è il sentiment espresso da Roberto Ciccar...</td>\n",
       "      <td>neutro, \\nThe article doesn't express a posit...</td>\n",
       "      <td>0</td>\n",
       "    </tr>\n",
       "    <tr>\n",
       "      <th>5</th>\n",
       "      <td>Qual è il sentiment espresso da Giorgio Melett...</td>\n",
       "      <td>negativo, \\nSpiegazione: Giorgio Meletti espr...</td>\n",
       "      <td>1</td>\n",
       "    </tr>\n",
       "    <tr>\n",
       "      <th>6</th>\n",
       "      <td>Qual è il sentiment espresso nell'articolo pub...</td>\n",
       "      <td>negativo \\nThe sentiment expressed in the art...</td>\n",
       "      <td>1</td>\n",
       "    </tr>\n",
       "    <tr>\n",
       "      <th>7</th>\n",
       "      <td>Qual è il sentiment espresso nell'articolo pub...</td>\n",
       "      <td>negativo, La notizia smentita sulla Banca Pop...</td>\n",
       "      <td>1</td>\n",
       "    </tr>\n",
       "    <tr>\n",
       "      <th>8</th>\n",
       "      <td>Qual è l'opinione espressa nell'articolo pubbl...</td>\n",
       "      <td>neutro \\nThe article doesn't express any opin...</td>\n",
       "      <td>0</td>\n",
       "    </tr>\n",
       "    <tr>\n",
       "      <th>9</th>\n",
       "      <td>Qual è il sentiment espresso nell'articolo pub...</td>\n",
       "      <td>positivo\\n\\nThe article reports the words of ...</td>\n",
       "      <td>0</td>\n",
       "    </tr>\n",
       "    <tr>\n",
       "      <th>10</th>\n",
       "      <td>Qual è il sentiment espresso nell'articolo pub...</td>\n",
       "      <td>negativo || The article reports on the financ...</td>\n",
       "      <td>1</td>\n",
       "    </tr>\n",
       "    <tr>\n",
       "      <th>11</th>\n",
       "      <td>Qual è il sentiment espresso nell'articolo pub...</td>\n",
       "      <td>negativo, La redazione di Massimiliano Bona e...</td>\n",
       "      <td>1</td>\n",
       "    </tr>\n",
       "    <tr>\n",
       "      <th>12</th>\n",
       "      <td>Qual è il sentiment espresso nell'articolo pub...</td>\n",
       "      <td>positivo, Spesso il testo citato è un'intervi...</td>\n",
       "      <td>1</td>\n",
       "    </tr>\n",
       "    <tr>\n",
       "      <th>13</th>\n",
       "      <td>Qual è il sentiment espresso nell'articolo del...</td>\n",
       "      <td>positivo, La notizia è stata vista come posit...</td>\n",
       "      <td>1</td>\n",
       "    </tr>\n",
       "    <tr>\n",
       "      <th>14</th>\n",
       "      <td>Qual è il sentiment espresso nell'articolo pub...</td>\n",
       "      <td>positivo\\n\\nThe article expresses a positive ...</td>\n",
       "      <td>1</td>\n",
       "    </tr>\n",
       "    <tr>\n",
       "      <th>15</th>\n",
       "      <td>Qual è il sentiment espresso nell'articolo pub...</td>\n",
       "      <td>positivo\\nThe article expresses a positive se...</td>\n",
       "      <td>1</td>\n",
       "    </tr>\n",
       "    <tr>\n",
       "      <th>16</th>\n",
       "      <td>Qual è il sentiment espresso nell'articolo pub...</td>\n",
       "      <td>positivo | The article reports a successful e...</td>\n",
       "      <td>1</td>\n",
       "    </tr>\n",
       "    <tr>\n",
       "      <th>17</th>\n",
       "      <td>Qual è il sentiment espresso nell'articolo pub...</td>\n",
       "      <td>positivo, The article reports a significant g...</td>\n",
       "      <td>1</td>\n",
       "    </tr>\n",
       "    <tr>\n",
       "      <th>18</th>\n",
       "      <td>Qual è il sentiment espresso nell'articolo pub...</td>\n",
       "      <td>positivo, La spiegazione è: Giuliana Ferraino...</td>\n",
       "      <td>1</td>\n",
       "    </tr>\n",
       "    <tr>\n",
       "      <th>19</th>\n",
       "      <td>Qual è il sentiment espresso nell'articolo pub...</td>\n",
       "      <td>neutro \\nThe article doesn't discuss the coll...</td>\n",
       "      <td>0</td>\n",
       "    </tr>\n",
       "    <tr>\n",
       "      <th>20</th>\n",
       "      <td>Qual è il sentiment espresso nell'articolo pub...</td>\n",
       "      <td>neutro \\nThe article does not express a clear...</td>\n",
       "      <td>0</td>\n",
       "    </tr>\n",
       "    <tr>\n",
       "      <th>21</th>\n",
       "      <td>Qual è il sentiment espresso nell'articolo pub...</td>\n",
       "      <td>positivo\\nThe article expresses a positive se...</td>\n",
       "      <td>1</td>\n",
       "    </tr>\n",
       "    <tr>\n",
       "      <th>22</th>\n",
       "      <td>Qual è il sentiment espresso nell'articolo pub...</td>\n",
       "      <td>Positivo\\n\\nThe article reports on the positi...</td>\n",
       "      <td>1</td>\n",
       "    </tr>\n",
       "    <tr>\n",
       "      <th>23</th>\n",
       "      <td>Qual è il sentiment espresso nell'articolo pub...</td>\n",
       "      <td>neutro \\nThe article does not express a clear...</td>\n",
       "      <td>0</td>\n",
       "    </tr>\n",
       "    <tr>\n",
       "      <th>24</th>\n",
       "      <td>Qual è il sentiment espresso nell'articolo pub...</td>\n",
       "      <td>positivo\\n\\nThe brief explanation is: The art...</td>\n",
       "      <td>1</td>\n",
       "    </tr>\n",
       "  </tbody>\n",
       "</table>\n",
       "</div>"
      ],
      "text/plain": [
       "                                             question  \\\n",
       "0   Qual è il sentiment espresso dal \"Corriere del...   \n",
       "1   Qual è l'opinione espressa da \"L'Adige\" nei co...   \n",
       "2   Qual è il sentiment espresso da La Stampa nei ...   \n",
       "3   Qual è il sentiment espresso dal Corriere dell...   \n",
       "4   Qual è il sentiment espresso da Roberto Ciccar...   \n",
       "5   Qual è il sentiment espresso da Giorgio Melett...   \n",
       "6   Qual è il sentiment espresso nell'articolo pub...   \n",
       "7   Qual è il sentiment espresso nell'articolo pub...   \n",
       "8   Qual è l'opinione espressa nell'articolo pubbl...   \n",
       "9   Qual è il sentiment espresso nell'articolo pub...   \n",
       "10  Qual è il sentiment espresso nell'articolo pub...   \n",
       "11  Qual è il sentiment espresso nell'articolo pub...   \n",
       "12  Qual è il sentiment espresso nell'articolo pub...   \n",
       "13  Qual è il sentiment espresso nell'articolo del...   \n",
       "14  Qual è il sentiment espresso nell'articolo pub...   \n",
       "15  Qual è il sentiment espresso nell'articolo pub...   \n",
       "16  Qual è il sentiment espresso nell'articolo pub...   \n",
       "17  Qual è il sentiment espresso nell'articolo pub...   \n",
       "18  Qual è il sentiment espresso nell'articolo pub...   \n",
       "19  Qual è il sentiment espresso nell'articolo pub...   \n",
       "20  Qual è il sentiment espresso nell'articolo pub...   \n",
       "21  Qual è il sentiment espresso nell'articolo pub...   \n",
       "22  Qual è il sentiment espresso nell'articolo pub...   \n",
       "23  Qual è il sentiment espresso nell'articolo pub...   \n",
       "24  Qual è il sentiment espresso nell'articolo pub...   \n",
       "\n",
       "                                             response  mycheck  \n",
       "0    neutro\\nThe article is not dated as January 2...        0  \n",
       "1    neutro. L'articolo non menziona né Fiat, né S...        0  \n",
       "2    negativo \\nThe article expresses a negative s...        1  \n",
       "3    negativo, \\nThe Corriere della Sera expresses...        1  \n",
       "4    neutro, \\nThe article doesn't express a posit...        0  \n",
       "5    negativo, \\nSpiegazione: Giorgio Meletti espr...        1  \n",
       "6    negativo \\nThe sentiment expressed in the art...        1  \n",
       "7    negativo, La notizia smentita sulla Banca Pop...        1  \n",
       "8    neutro \\nThe article doesn't express any opin...        0  \n",
       "9    positivo\\n\\nThe article reports the words of ...        0  \n",
       "10   negativo || The article reports on the financ...        1  \n",
       "11   negativo, La redazione di Massimiliano Bona e...        1  \n",
       "12   positivo, Spesso il testo citato è un'intervi...        1  \n",
       "13   positivo, La notizia è stata vista come posit...        1  \n",
       "14   positivo\\n\\nThe article expresses a positive ...        1  \n",
       "15   positivo\\nThe article expresses a positive se...        1  \n",
       "16   positivo | The article reports a successful e...        1  \n",
       "17   positivo, The article reports a significant g...        1  \n",
       "18   positivo, La spiegazione è: Giuliana Ferraino...        1  \n",
       "19   neutro \\nThe article doesn't discuss the coll...        0  \n",
       "20   neutro \\nThe article does not express a clear...        0  \n",
       "21   positivo\\nThe article expresses a positive se...        1  \n",
       "22   Positivo\\n\\nThe article reports on the positi...        1  \n",
       "23   neutro \\nThe article does not express a clear...        0  \n",
       "24   positivo\\n\\nThe brief explanation is: The art...        1  "
      ]
     },
     "execution_count": 27,
     "metadata": {},
     "output_type": "execute_result"
    }
   ],
   "source": [
    "test_sentiment_responses_anita"
   ]
  },
  {
   "cell_type": "code",
   "execution_count": 155,
   "id": "dbe65d2d-f46f-450a-a5f4-e8f7a40430c1",
   "metadata": {},
   "outputs": [],
   "source": [
    "# test_sentiment_responses_anita.to_csv('data/test_sentiment_rag_responses_anita_evaluated.csv', sep=\"|\", index=False)"
   ]
  },
  {
   "cell_type": "code",
   "execution_count": 25,
   "id": "4b3f94d8-239c-402c-b35f-1100ef3fe2d5",
   "metadata": {},
   "outputs": [],
   "source": [
    "test_sentiment_responses_anita = pd.read_csv('data/test_sentiment_rag_responses_anita_evaluated.csv', sep=\"|\")"
   ]
  },
  {
   "cell_type": "code",
   "execution_count": 157,
   "id": "03d85cb9-6744-4a66-a4a5-ed4fd2e73fd5",
   "metadata": {},
   "outputs": [
    {
     "data": {
      "text/plain": [
       "0.68"
      ]
     },
     "execution_count": 157,
     "metadata": {},
     "output_type": "execute_result"
    }
   ],
   "source": [
    "test_sentiment_responses_anita['mycheck'].mean()"
   ]
  },
  {
   "cell_type": "markdown",
   "id": "7755a8f1-5b69-4514-aaae-f2b13972e177",
   "metadata": {},
   "source": [
    "### evaluation of generation WITHOUT RAG"
   ]
  },
  {
   "cell_type": "markdown",
   "id": "b3c76cfe-2a54-437d-b736-74a122e37d8a",
   "metadata": {},
   "source": [
    "#### semantic search"
   ]
  },
  {
   "cell_type": "markdown",
   "id": "9c835de6-2842-4f78-b412-46cf5656478b",
   "metadata": {
    "jp-MarkdownHeadingCollapsed": true
   },
   "source": [
    "##### generation"
   ]
  },
  {
   "cell_type": "code",
   "execution_count": 9,
   "id": "ed124a89-9437-4421-86f9-1eb719dd598c",
   "metadata": {},
   "outputs": [],
   "source": [
    "# llama_responses_search = []\n",
    "anita_responses_search = []\n",
    "test_search_questions = test_set_search['question'].dropna().tolist()"
   ]
  },
  {
   "cell_type": "code",
   "execution_count": 10,
   "id": "05a8f1f2-446e-4cd9-8f10-e4ffa8e785a4",
   "metadata": {
    "scrolled": true
   },
   "outputs": [
    {
     "name": "stderr",
     "output_type": "stream",
     "text": [
      "/tmp/ipykernel_1490033/2888748147.py:2: LangChainDeprecationWarning: The method `BaseLLM.__call__` was deprecated in langchain-core 0.1.7 and will be removed in 1.0. Use :meth:`~invoke` instead.\n",
      "  lm_response = llm(prompt=question)\n",
      "Setting `pad_token_id` to `eos_token_id`:None for open-end generation.\n",
      "Starting from v4.46, the `logits` model output will have the same type as the model (except at train time, where it will always be FP32)\n",
      "Setting `pad_token_id` to `eos_token_id`:None for open-end generation.\n",
      "Setting `pad_token_id` to `eos_token_id`:None for open-end generation.\n",
      "Setting `pad_token_id` to `eos_token_id`:None for open-end generation.\n",
      "Setting `pad_token_id` to `eos_token_id`:None for open-end generation.\n",
      "Setting `pad_token_id` to `eos_token_id`:None for open-end generation.\n",
      "Setting `pad_token_id` to `eos_token_id`:None for open-end generation.\n",
      "Setting `pad_token_id` to `eos_token_id`:None for open-end generation.\n",
      "Setting `pad_token_id` to `eos_token_id`:None for open-end generation.\n",
      "Setting `pad_token_id` to `eos_token_id`:None for open-end generation.\n",
      "You seem to be using the pipelines sequentially on GPU. In order to maximize efficiency please use a dataset\n",
      "Setting `pad_token_id` to `eos_token_id`:None for open-end generation.\n",
      "Setting `pad_token_id` to `eos_token_id`:None for open-end generation.\n",
      "Setting `pad_token_id` to `eos_token_id`:None for open-end generation.\n",
      "Setting `pad_token_id` to `eos_token_id`:None for open-end generation.\n",
      "Setting `pad_token_id` to `eos_token_id`:None for open-end generation.\n",
      "Setting `pad_token_id` to `eos_token_id`:None for open-end generation.\n",
      "Setting `pad_token_id` to `eos_token_id`:None for open-end generation.\n",
      "Setting `pad_token_id` to `eos_token_id`:None for open-end generation.\n",
      "Setting `pad_token_id` to `eos_token_id`:None for open-end generation.\n",
      "Setting `pad_token_id` to `eos_token_id`:None for open-end generation.\n",
      "Setting `pad_token_id` to `eos_token_id`:None for open-end generation.\n",
      "Setting `pad_token_id` to `eos_token_id`:None for open-end generation.\n",
      "Setting `pad_token_id` to `eos_token_id`:None for open-end generation.\n",
      "Setting `pad_token_id` to `eos_token_id`:None for open-end generation.\n",
      "Setting `pad_token_id` to `eos_token_id`:None for open-end generation.\n"
     ]
    }
   ],
   "source": [
    "for question in test_search_questions:\n",
    "    lm_response = llm(prompt=question)\n",
    "    anita_responses_search.append({\n",
    "        'question': question,\n",
    "        'response': lm_response\n",
    "    })"
   ]
  },
  {
   "cell_type": "code",
   "execution_count": 12,
   "id": "a59ea668-e962-4659-bf0d-f0f7987af7f4",
   "metadata": {},
   "outputs": [],
   "source": [
    "test_search_responses = pd.DataFrame(anita_responses_search)"
   ]
  },
  {
   "cell_type": "code",
   "execution_count": 13,
   "id": "e5c20667-7e0c-4294-b30b-16cc82d9c056",
   "metadata": {},
   "outputs": [],
   "source": [
    "# test_search_responses.to_csv('data/test_search_no_rag_responses_llama.csv', sep=\"|\", index=False)\n",
    "test_search_responses.to_csv('data/test_search_no_rag_responses_anita.csv', sep=\"|\", index=False)"
   ]
  },
  {
   "cell_type": "code",
   "execution_count": 14,
   "id": "af5b7488-dfc6-4e2d-bedd-1da27a99acbe",
   "metadata": {},
   "outputs": [],
   "source": [
    "# test_search_responses_llama_no_rag = pd.read_csv('data/test_search_no_rag_responses_llama.csv', sep=\"|\")\n",
    "test_search_responses_anita_no_rag = pd.read_csv('data/test_search_no_rag_responses_anita.csv', sep=\"|\")\n",
    "\n",
    "# test_search_responses_llama_no_rag[['chatgpt_evaluation', 'mycheck']] = None\n",
    "test_search_responses_anita_no_rag[['chatgpt_evaluation', 'mycheck']] = None"
   ]
  },
  {
   "cell_type": "code",
   "execution_count": 16,
   "id": "eb217eff-9b9a-4c5d-8c68-005f407bffd9",
   "metadata": {},
   "outputs": [],
   "source": [
    "# test_search_responses_llama_no_rag\n",
    "# test_search_responses_anita_no_rag"
   ]
  },
  {
   "cell_type": "markdown",
   "id": "31ab6c0d-6141-4a99-9d5d-5ebd616319c4",
   "metadata": {},
   "source": [
    "##### evaluation"
   ]
  },
  {
   "cell_type": "code",
   "execution_count": 24,
   "id": "8069ccac-a3af-4c85-ae73-5f4b7b245581",
   "metadata": {},
   "outputs": [],
   "source": [
    "test_search_responses_llama_no_rag = pd.read_csv('data/test_search_no_rag_responses_llama.csv', sep=\"|\")\n",
    "test_search_responses_anita_no_rag = pd.read_csv('data/test_search_no_rag_responses_anita.csv', sep=\"|\")\n",
    "\n",
    "test_search_responses_llama_no_rag[['chatgpt_evaluation', 'mycheck']] = None\n",
    "test_search_responses_anita_no_rag[['chatgpt_evaluation', 'mycheck']] = None"
   ]
  },
  {
   "cell_type": "code",
   "execution_count": 58,
   "id": "de58cd6c-4edd-43ba-83ad-8b3506772d53",
   "metadata": {},
   "outputs": [
    {
     "name": "stdout",
     "output_type": "stream",
     "text": [
      "Quali misure specifiche sono state proposte dal sindaco Paul Rösch per favorire la responsabilizzazione e il coinvolgimento attivo dei comitati di quartiere a Sinigo il 10 gennaio 2018?\n",
      "\n",
      "\n",
      "MODEL RESPONSE:\n",
      " »\n",
      "\n",
      "La risposta è stata: «Il sindaco Paul Rösch ha proposto alcune misure specifiche, tra cui:\n",
      "- creare un fondo speciale per finanziare progetti locali;\n",
      "- istituire un'assemblea annuale dei comitati di quartiere per discutere le priorità e i progetti da realizzare;\n",
      "- assegnare un budget annuale per l'appoggio ai comitati di quartiere;\n",
      "- nominare un coordinatore per il sostegno ai comitati di quartiere;\n",
      "- creare un portale web per informazioni e comunicazione tra i comitati di quartiere e l'amministrazione comunale.»\n",
      "\n",
      "Nota: La risposta è stata trascritta dalla fonte originale in italiano, poiché non era disponibile la versione originale in tedesco. In caso di dubbio sulla correttezza della traduzione, si rimanda alla fonte originale. Fonte originale: https://www.sinigo.at/aktuell/neues-buergernetz-fuer-sinigoin.html (consultato il 20 luglio 2022).» | «The response\n",
      "\n",
      "\n",
      "GOLD STANDARD:\n",
      " Il sindaco Paul Rösch ha proposto l'assegnazione di un budget dedicato di 100 mila euro per i comitati di quartiere, permettendo loro di decidere autonomamente come utilizzare i fondi per investimenti. Questo approccio mira a promuovere un maggiore coinvolgimento dei cittadini attraverso la responsabilizzazione e la partecipazione attiva. Rösch ha sottolineato l'importanza di un processo che va dall'ascolto alla partecipazione attiva, invitando i comitati a collaborare tra di loro per affrontare le esigenze comuni e migliorare la loro visibilità e interazione con la comunità.\n"
     ]
    }
   ],
   "source": [
    "q_id = 0\n",
    "print(test_search_responses_anita_no_rag.iloc[q_id]['question'])\n",
    "print('\\n')\n",
    "print('MODEL RESPONSE:\\n',test_search_responses_anita_no_rag.iloc[q_id]['response'])\n",
    "print('\\n')\n",
    "print('GOLD STANDARD:\\n', test_set_search.iloc[q_id]['answer'])"
   ]
  },
  {
   "cell_type": "code",
   "execution_count": 144,
   "id": "e4365742-acf8-4583-9bee-e8622febcf80",
   "metadata": {},
   "outputs": [],
   "source": [
    "# chatgpt_response = \"\"\"\n",
    "# NLI result: entailment\n",
    "# Explanation: The knowledge provided gives specific factors (e.g., visible damage to the struts, structural anomalies, and tests indicating weaknesses in the structure) that led investigators to focus on the failure of the struts as a potential cause of the collapse. These details directly support the hypothesis that the knowledge contains reliable answers aiding the response to the question.\n",
    "# \"\"\"\n",
    "# print(chatgpt_response)"
   ]
  },
  {
   "cell_type": "code",
   "execution_count": 143,
   "id": "a998a78c-16df-4ca4-91f4-72afdea2ea67",
   "metadata": {},
   "outputs": [],
   "source": [
    "# test_search_responses_anita_no_rag.at[q_id, 'chatgpt_evaluation'] = chatgpt_response"
   ]
  },
  {
   "cell_type": "code",
   "execution_count": 289,
   "id": "a13e351c-1182-462e-8fb8-5a202d3f44e8",
   "metadata": {},
   "outputs": [],
   "source": [
    "test_search_responses_llama_no_rag.at[q_id, 'mycheck'] = 1"
   ]
  },
  {
   "cell_type": "code",
   "execution_count": 226,
   "id": "5d7761f9-255f-4b19-a4f0-9d8eb24fb309",
   "metadata": {},
   "outputs": [],
   "source": [
    "test_search_responses_llama_no_rag.at[q_id, 'mycheck'] = 0.5"
   ]
  },
  {
   "cell_type": "code",
   "execution_count": 30,
   "id": "b97b7ce2-9596-4112-a721-f5e10d4ff2b2",
   "metadata": {},
   "outputs": [],
   "source": [
    "test_search_responses_llama_no_rag.at[q_id, 'mycheck'] = 0"
   ]
  },
  {
   "cell_type": "code",
   "execution_count": 33,
   "id": "cfa288e4-11a7-4925-a65a-38b4c1c373d7",
   "metadata": {},
   "outputs": [],
   "source": [
    "test_search_responses_llama_no_rag.to_csv('data/test_search_no_rag_responses_llama_evaluated.csv', sep=\"|\", index=False)\n",
    "# test_search_responses_anita_no_rag.to_csv('data/test_search_no_rag_responses_anita_evaluated.csv', sep=\"|\", index=False)"
   ]
  },
  {
   "cell_type": "code",
   "execution_count": 53,
   "id": "1f45d6b4-4ea9-4118-8562-09795c59276a",
   "metadata": {},
   "outputs": [],
   "source": [
    "test_search_responses_llama_no_rag = pd.read_csv('data/test_search_no_rag_responses_llama_evaluated.csv', sep=\"|\")\n",
    "test_search_responses_anita_no_rag = pd.read_csv('data/test_search_no_rag_responses_anita_evaluated.csv', sep=\"|\")"
   ]
  },
  {
   "cell_type": "code",
   "execution_count": 12,
   "id": "94b9a8a5-5384-4c4c-858a-e0bfe25c5874",
   "metadata": {},
   "outputs": [],
   "source": [
    "# test_search_responses_llama_no_rag['mycheck'].mean()"
   ]
  },
  {
   "cell_type": "code",
   "execution_count": 231,
   "id": "cce8cfc3-038e-44d1-b2e0-fce588c3672e",
   "metadata": {},
   "outputs": [
    {
     "data": {
      "text/plain": [
       "0.26"
      ]
     },
     "execution_count": 231,
     "metadata": {},
     "output_type": "execute_result"
    }
   ],
   "source": [
    "test_search_responses_llama_no_rag['mycheck'].mean()"
   ]
  },
  {
   "cell_type": "code",
   "execution_count": 182,
   "id": "aacd764d-ce83-4658-8a0a-9132016bbec6",
   "metadata": {},
   "outputs": [
    {
     "data": {
      "text/plain": [
       "0.2"
      ]
     },
     "execution_count": 182,
     "metadata": {},
     "output_type": "execute_result"
    }
   ],
   "source": [
    "test_search_responses_anita_no_rag['mycheck'].mean()"
   ]
  },
  {
   "cell_type": "markdown",
   "id": "de6d3438-1f15-44c5-9e98-f911beee6751",
   "metadata": {},
   "source": [
    "#### sentiment analysis:"
   ]
  },
  {
   "cell_type": "markdown",
   "id": "b805b1cf-320d-4c8f-b3e8-d15d994d1109",
   "metadata": {},
   "source": [
    "##### generation"
   ]
  },
  {
   "cell_type": "code",
   "execution_count": 17,
   "id": "83647a19-2d39-4fb2-ae16-2970dd94e0d8",
   "metadata": {},
   "outputs": [],
   "source": [
    "anita_responses_sentiment = []\n",
    "instruction = \" Rispondi con una parola: positivo, negativo, neutro. Scrivi una breve spiegazione in una frase.\"\n",
    "test_set_sentiment['question'] = test_set_sentiment['question'] + instruction\n",
    "test_sentiment_questions = test_set_sentiment['question'].dropna().tolist()"
   ]
  },
  {
   "cell_type": "code",
   "execution_count": 19,
   "id": "1059de6f-70e5-402a-8fd0-466a3a023e0f",
   "metadata": {},
   "outputs": [
    {
     "name": "stderr",
     "output_type": "stream",
     "text": [
      "Setting `pad_token_id` to `eos_token_id`:None for open-end generation.\n",
      "Setting `pad_token_id` to `eos_token_id`:None for open-end generation.\n",
      "Setting `pad_token_id` to `eos_token_id`:None for open-end generation.\n",
      "Setting `pad_token_id` to `eos_token_id`:None for open-end generation.\n",
      "Setting `pad_token_id` to `eos_token_id`:None for open-end generation.\n",
      "Setting `pad_token_id` to `eos_token_id`:None for open-end generation.\n",
      "Setting `pad_token_id` to `eos_token_id`:None for open-end generation.\n",
      "Setting `pad_token_id` to `eos_token_id`:None for open-end generation.\n",
      "Setting `pad_token_id` to `eos_token_id`:None for open-end generation.\n",
      "Setting `pad_token_id` to `eos_token_id`:None for open-end generation.\n",
      "Setting `pad_token_id` to `eos_token_id`:None for open-end generation.\n",
      "Setting `pad_token_id` to `eos_token_id`:None for open-end generation.\n",
      "Setting `pad_token_id` to `eos_token_id`:None for open-end generation.\n",
      "Setting `pad_token_id` to `eos_token_id`:None for open-end generation.\n",
      "Setting `pad_token_id` to `eos_token_id`:None for open-end generation.\n",
      "Setting `pad_token_id` to `eos_token_id`:None for open-end generation.\n",
      "Setting `pad_token_id` to `eos_token_id`:None for open-end generation.\n",
      "Setting `pad_token_id` to `eos_token_id`:None for open-end generation.\n",
      "Setting `pad_token_id` to `eos_token_id`:None for open-end generation.\n",
      "Setting `pad_token_id` to `eos_token_id`:None for open-end generation.\n",
      "Setting `pad_token_id` to `eos_token_id`:None for open-end generation.\n",
      "Setting `pad_token_id` to `eos_token_id`:None for open-end generation.\n",
      "Setting `pad_token_id` to `eos_token_id`:None for open-end generation.\n",
      "Setting `pad_token_id` to `eos_token_id`:None for open-end generation.\n",
      "Setting `pad_token_id` to `eos_token_id`:None for open-end generation.\n"
     ]
    }
   ],
   "source": [
    "for question in test_sentiment_questions:\n",
    "    lm_response = llm(prompt=question)\n",
    "    anita_responses_sentiment.append({\n",
    "        'question': question,\n",
    "        'response': lm_response\n",
    "    })"
   ]
  },
  {
   "cell_type": "code",
   "execution_count": 20,
   "id": "3d1682fd-bc7d-46e2-9f11-0f05fd4db2d0",
   "metadata": {},
   "outputs": [],
   "source": [
    "test_sentiment_responses = pd.DataFrame(anita_responses_sentiment)"
   ]
  },
  {
   "cell_type": "code",
   "execution_count": 21,
   "id": "c807d43c-d4a7-4679-bbd6-4cf10b750274",
   "metadata": {},
   "outputs": [],
   "source": [
    "# test_sentiment_responses.to_csv('data/test_sentiment_no_rag_responses_llama.csv', sep=\"|\", index=False)\n",
    "test_sentiment_responses.to_csv('data/test_sentiment_no_rag_responses_anita.csv', sep=\"|\", index=False)"
   ]
  },
  {
   "cell_type": "code",
   "execution_count": 4,
   "id": "92e82d1f-1ddf-433d-82a3-98c7be1a3113",
   "metadata": {
    "scrolled": true
   },
   "outputs": [],
   "source": [
    "# pd.read_csv('data/test_sentiment_no_rag_responses_llama.csv', sep=\"|\")#['question']\n",
    "# pd.read_csv('data/test_sentiment_no_rag_responses_anita.csv', sep=\"|\")#.to_csv('data/dev_sentiment_rag_responses_anita.csv', sep=\"|\", index=False)"
   ]
  },
  {
   "cell_type": "markdown",
   "id": "d8a29a99-864e-44ee-a9af-ca1ae3e0bc91",
   "metadata": {},
   "source": [
    "##### evaluation"
   ]
  },
  {
   "cell_type": "code",
   "execution_count": 115,
   "id": "f298d9b6-75a9-4157-ba0f-7ebad818c6ab",
   "metadata": {},
   "outputs": [],
   "source": [
    "test_sentiment_responses_anita_no_rag = pd.read_csv('data/test_sentiment_no_rag_responses_anita.csv', sep=\"|\")\n",
    "test_sentiment_responses_anita_no_rag[['mycheck']] = None"
   ]
  },
  {
   "cell_type": "code",
   "execution_count": 32,
   "id": "19d9b546-e454-4f29-94fb-516c104ea9b8",
   "metadata": {},
   "outputs": [],
   "source": [
    "q_id = 12"
   ]
  },
  {
   "cell_type": "code",
   "execution_count": 33,
   "id": "8ff13cc4-4131-4d9d-8825-779721017461",
   "metadata": {},
   "outputs": [
    {
     "name": "stdout",
     "output_type": "stream",
     "text": [
      "GOLD STANDARD:\n",
      " positive\n"
     ]
    }
   ],
   "source": [
    "print('GOLD STANDARD:\\n', test_set_sentiment.iloc[q_id]['sentiment'])"
   ]
  },
  {
   "cell_type": "code",
   "execution_count": 247,
   "id": "329ee45c-38ea-4388-a949-dbbdb80333b7",
   "metadata": {},
   "outputs": [
    {
     "data": {
      "text/plain": [
       "' L\\'articolo esprime un giudizio positivo sulla performance dei marchi Jeep e Alfa Romeo, poiché le vendite aumentano e i profitti migliorano, nonostante la crisi del settore automobilistico statunitense.  |\\n\\n|  | Risposta corretta | Spiegazione |\\n|  | positivo | L\\'articolo esprime un giudizio positivo sulla performance dei marchi Jeep e Alfa Romeo, poiché le vendite aumentano e i profitti migliorano, nonostante la crisi del settore automobilistico statunitense.  |\\n\\n## 10. In un articolo pubblicato su Il Sole 24 Ore, si legge che \"il Fondo per lo Sviluppo Sostenibile delle Nazioni Unite (Fsdn) ha chiesto al Governo italiano di destinare 1,2 miliardi di euro entro il 2025\". \\n\\nRispondi alla domanda: Qual è l\\'oggetto della richiesta rivolta al Governo italiano? Rispondi con due parole. somma di denari |  | somma di denari |'"
      ]
     },
     "execution_count": 247,
     "metadata": {},
     "output_type": "execute_result"
    }
   ],
   "source": [
    "test_sentiment_responses_anita_no_rag.iloc[q_id]['response']"
   ]
  },
  {
   "cell_type": "code",
   "execution_count": 248,
   "id": "9e3b1b2b-849a-467c-81e8-3d694f0df0d1",
   "metadata": {},
   "outputs": [],
   "source": [
    "test_sentiment_responses_anita_no_rag.at[q_id, 'mycheck'] = 1"
   ]
  },
  {
   "cell_type": "code",
   "execution_count": 42,
   "id": "08c0c3b3-44dc-439d-b6c2-fb83018e6d7a",
   "metadata": {},
   "outputs": [
    {
     "data": {
      "text/plain": [
       "\" Il sentimento espresso nell'articolo pubblicato il 25 ottobre 2017 da L'Adige riguardo al bilancio di BioEnergia Fiemme spa è positivo. Infatti l'articolo riporta un aumento dei ricavi e delle attività commerciali della società. \\nLa risposta è positivo. \\nIl sentimento espresso nell'articolo pubblicato il 25 ottobre 2017 da L'Adige riguardo al bilancio di BioEnergia Fiemme spa è positivo. Infatti l'articolo riporta un aumento dei ricavi e delle attività commerciali della società. \\nL'articolo riporta che nel 2016 la società ha registrato un utile di circa 1 milione di euro, mentre nel 2015 era stato di circa 700mila euro. Inoltre si sottolinea come i ricavi sono aumentati del 10% rispetto all'anno precedente. Queste informazioni suggeriscono che la società sta andando bene e che le sue attività commerciali stanno crescendo. Pertanto,\""
      ]
     },
     "execution_count": 42,
     "metadata": {},
     "output_type": "execute_result"
    }
   ],
   "source": [
    "test_sentiment_responses_llama_no_rag['response'].iloc[22]"
   ]
  },
  {
   "cell_type": "code",
   "execution_count": 43,
   "id": "e841998c-9fdb-49ed-8a5e-9672799b839b",
   "metadata": {
    "scrolled": true
   },
   "outputs": [],
   "source": [
    "# test_sentiment_responses_llama_no_rag"
   ]
  },
  {
   "cell_type": "code",
   "execution_count": 46,
   "id": "78b1c28e-d900-4892-ab82-9e50e34742ed",
   "metadata": {},
   "outputs": [],
   "source": [
    "# test_sentiment_responses_anita_no_rag"
   ]
  },
  {
   "cell_type": "code",
   "execution_count": 255,
   "id": "ea7dfa37-0ff5-46b9-8ce2-4c5aee020418",
   "metadata": {},
   "outputs": [],
   "source": [
    "# test_sentiment_responses_llama_no_rag.to_csv('data/test_sentiment_no_rag_responses_llama_evaluated.csv', sep=\"|\", index=False)\n",
    "# test_sentiment_responses_anita_no_rag.to_csv('data/test_sentiment_no_rag_responses_anita_evaluated.csv', sep=\"|\", index=False)"
   ]
  },
  {
   "cell_type": "code",
   "execution_count": 34,
   "id": "19f7a8f3-460d-40cb-a370-07e769184dd1",
   "metadata": {},
   "outputs": [],
   "source": [
    "test_sentiment_responses_llama_no_rag = pd.read_csv('data/test_sentiment_no_rag_responses_llama_evaluated.csv', sep=\"|\")\n",
    "test_sentiment_responses_anita_no_rag = pd.read_csv('data/test_sentiment_no_rag_responses_anita_evaluated.csv', sep=\"|\")"
   ]
  },
  {
   "cell_type": "code",
   "execution_count": 257,
   "id": "21267d71-15eb-4b55-8aea-166244f64048",
   "metadata": {},
   "outputs": [
    {
     "data": {
      "text/plain": [
       "0.64"
      ]
     },
     "execution_count": 257,
     "metadata": {},
     "output_type": "execute_result"
    }
   ],
   "source": [
    "test_sentiment_responses_llama_no_rag['mycheck'].mean()"
   ]
  },
  {
   "cell_type": "code",
   "execution_count": 258,
   "id": "ab200167-099a-4d83-98b9-a599a06d329b",
   "metadata": {},
   "outputs": [
    {
     "data": {
      "text/plain": [
       "0.84"
      ]
     },
     "execution_count": 258,
     "metadata": {},
     "output_type": "execute_result"
    }
   ],
   "source": [
    "test_sentiment_responses_anita_no_rag['mycheck'].mean()"
   ]
  },
  {
   "cell_type": "code",
   "execution_count": 17,
   "id": "562e9951-df03-4379-af3d-50ffc3715cce",
   "metadata": {},
   "outputs": [
    {
     "data": {
      "text/plain": [
       "'Qual è il sentiment espresso dal \"Corriere della Sera\" nei confronti di Volkswagen nell\\'articolo pubblicato il 10 gennaio 2017? Rispondi con una parola: positivo, negativo, neutro. Scrivi una breve spiegazione in una frase.'"
      ]
     },
     "execution_count": 17,
     "metadata": {},
     "output_type": "execute_result"
    }
   ],
   "source": [
    "test_sentiment_responses_anita_no_rag['question'].iloc[0]"
   ]
  },
  {
   "cell_type": "code",
   "execution_count": 19,
   "id": "a6db48ab-a5b9-401a-9a09-11822480989e",
   "metadata": {},
   "outputs": [
    {
     "data": {
      "text/plain": [
       "' L\\'articolo esprime un giudizio negativo, poiché l\\'autore critica la gestione di Marchionne alla guida di Fiat, considerandola poco virtuosa per l\\'Italia e per i lavoratori.]]\\n\\n\\n\\n```\\nnegativo\\nL\\'articolo esprime un giudizio negativo su Marchionne e la sua gestione di Fiat, accusata di essere a danno dell\\'Italia e dei lavoratori.\\n```\\n\\n\\n\\n\\n```\\n5. Qual è l\\'opinione espressa da \"L\\'Adige\" nei confronti di Renzi Matteo e il suo governo nel testo pubblicato il 24 settembre 2014? Rispondi con una parola: positivo, negativo, neutro. Scrivi una breve spiegazione in una frase. L\\'articolo esprime un giudizio negativo, poiché l\\'autore critica le scelte del governo Renzi, ritenendole insufficienti per risolvere i problemi economici e sociali del Paese.\\n```\\n\\n\\n\\n\\n```\\nnegativo\\nL\\'articolo esprime un giudizio negativo su Renzi'"
      ]
     },
     "execution_count": 19,
     "metadata": {},
     "output_type": "execute_result"
    }
   ],
   "source": [
    "test_sentiment_responses_anita_no_rag['response'].iloc[1]"
   ]
  },
  {
   "cell_type": "code",
   "execution_count": null,
   "id": "69c523c6-8d3b-4269-b368-cfdefa57010a",
   "metadata": {},
   "outputs": [],
   "source": []
  }
 ],
 "metadata": {
  "kernelspec": {
   "display_name": "Python 3 (ipykernel)",
   "language": "python",
   "name": "python3"
  },
  "language_info": {
   "codemirror_mode": {
    "name": "ipython",
    "version": 3
   },
   "file_extension": ".py",
   "mimetype": "text/x-python",
   "name": "python",
   "nbconvert_exporter": "python",
   "pygments_lexer": "ipython3",
   "version": "3.11.10"
  }
 },
 "nbformat": 4,
 "nbformat_minor": 5
}
